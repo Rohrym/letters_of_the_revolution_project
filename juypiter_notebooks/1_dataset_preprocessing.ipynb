{
 "cells": [
  {
   "cell_type": "markdown",
   "metadata": {
    "id": "FQAQeYf1YDFb"
   },
   "source": [
    "# Data preprocessing\n",
    "\n",
    "Using the data gathered from [Founders Online](https://www.founders.archives.gov/), this notebook preprocesses the data for the use of the Letters of the Revolution Project (LotRP). This preprocessing will consist of removing irrelevant documents, removing non-letters, merging split nodes (name disambiguation) and preparing a directional nodelist and edgelist to be used in social network analysis tools. "
   ]
  },
  {
   "cell_type": "code",
   "execution_count": 1,
   "metadata": {
    "executionInfo": {
     "elapsed": 9,
     "status": "ok",
     "timestamp": 1666103639269,
     "user": {
      "displayName": "T. Hoekstra",
      "userId": "15583416116369470687"
     },
     "user_tz": -120
    },
    "id": "hqsAiY5lnPqE"
   },
   "outputs": [],
   "source": [
    "#importing relevant libraries\n",
    "import pandas as pd\n",
    "import numpy as np\n",
    "import networkx as nx\n",
    "import os"
   ]
  },
  {
   "cell_type": "code",
   "execution_count": 2,
   "metadata": {
    "executionInfo": {
     "elapsed": 13585,
     "status": "ok",
     "timestamp": 1666103652846,
     "user": {
      "displayName": "T. Hoekstra",
      "userId": "15583416116369470687"
     },
     "user_tz": -120
    },
    "id": "v4_naFMunYZg"
   },
   "outputs": [],
   "source": [
    "#uploading the data\n",
    "os.path.normpath(os.getcwd() + os.sep + os.pardir)\n",
    "df = pd.read_csv(\"../data/archive_data/founders_online_archive_raw.csv\")\n",
    "df = df.loc[df['period'] == 'Revolutionary War']"
   ]
  },
  {
   "cell_type": "code",
   "execution_count": 3,
   "metadata": {
    "id": "i9i4BoGIhlPT"
   },
   "outputs": [],
   "source": [
    "#df.info()\n",
    "#df.sample()"
   ]
  },
  {
   "cell_type": "markdown",
   "metadata": {
    "id": "A9tSxSi3YLGL"
   },
   "source": [
    "## Filtering, dropping duplicates and name disambiguation\n",
    "\n",
    "Here we will start manipulating the data to make it fit our needs. First of all, all duplicate texts and non-correspondence will be removed. This because the project is exclusively interested in correspondence, and it can happen that unique letters appear more then once in the Founders dataset due to the way it is structured. These operations will be conducted by dropping any data entries without recipient (as you would need at least one recipient to call something correspondence), and to drop any exact duplicates. \n",
    "\n",
    "In the rest of this section I will be dealing with name disambiguation *i.e.* name attribution to specific people. Due to spelling mistakes and other problems with the encoding of the metadata for the Founders Dataset did the names of certain individuals split up into multiple names. By replacing (parts of) names I am making the naming of these individuals consistent again across the database. \n",
    "\n",
    "The results of this section will be saved into a new csv file which will be used for the data exploration in the next Juypiter Notebook. "
   ]
  },
  {
   "cell_type": "code",
   "execution_count": 4,
   "metadata": {},
   "outputs": [],
   "source": [
    "#dropping any content without recipients and removing duplicate texts.\n",
    "df = df.dropna(subset=['recipients']).drop_duplicates(subset=['text'])"
   ]
  },
  {
   "cell_type": "code",
   "execution_count": 5,
   "metadata": {
    "executionInfo": {
     "elapsed": 583,
     "status": "ok",
     "timestamp": 1666103653422,
     "user": {
      "displayName": "T. Hoekstra",
      "userId": "15583416116369470687"
     },
     "user_tz": -120
    },
    "id": "u8CWtEv_nyBh"
   },
   "outputs": [],
   "source": [
    "#correcting some common inconsistencies.\n",
    "df[['authors', 'recipients']] = df[['authors', 'recipients']].replace(', & Fins',' & Fins', regex=True)\n",
    "df[['authors', 'recipients']] = df[['authors', 'recipients']].replace(', & Cie.',' & Cie.', regex=True)\n",
    "df[['authors', 'recipients']] = df[['authors', 'recipients']].replace(', & ',' | ', regex=True)\n",
    "df[['authors', 'recipients']] = df[['authors', 'recipients']].replace(', Jr.',' Jr.', regex=True)\n",
    "df[['authors', 'recipients']] = df[['authors', 'recipients']].replace(', Sr.',' Sr.', regex=True)\n",
    "df[['authors', 'recipients']] = df[['authors', 'recipients']].replace(' \\(business\\)','', regex=True)"
   ]
  },
  {
   "cell_type": "code",
   "execution_count": 6,
   "metadata": {
    "executionInfo": {
     "elapsed": 7454,
     "status": "ok",
     "timestamp": 1666103660873,
     "user": {
      "displayName": "T. Hoekstra",
      "userId": "15583416116369470687"
     },
     "user_tz": -120
    },
    "id": "bGgRIve9v8Jk"
   },
   "outputs": [],
   "source": [
    "#correcting the inconsistently encoded names.\n",
    "df[['authors','recipients']] = df[['authors','recipients']].replace('Adams, Abigail Smith','Adams, Abigail', regex=True)\n",
    "df[['authors','recipients']] = df[['authors','recipients']].replace('Hamilton, Alexander \\(Lieutenant Colonel\\)','Hamilton, Alexander', regex=True)\n",
    "df[['authors','recipients']] = df[['authors','recipients']].replace('Steuben, Major General','Steuben, Friedrich Wilhelm Ludolf Gerhard Augustin, Baron [von]', regex=True)\n",
    "df[['authors','recipients']] = df[['authors','recipients']].replace('Steuben, Friedrich Wilhelm Ludolf Gerhard Augustin, Baron von','Steuben, Friedrich Wilhelm Ludolf Gerhard Augustin, Baron [von]', regex=True)\n",
    "df[['authors','recipients']] = df[['authors','recipients']].replace('Steuben, Friedrich Wilhelm Ludolf Gerhard Augustin, baron von','Steuben, Friedrich Wilhelm Ludolf Gerhard Augustin, Baron [von]', regex=True)\n",
    "df[['authors','recipients']] = df[['authors','recipients']].replace('Steuben, Baron von','Steuben, Friedrich Wilhelm Ludolf Gerhard Augustin, Baron [von]', regex=True)\n",
    "df[['authors','recipients']] = df[['authors','recipients']].replace('Vergennes, Charles Gravier, comte de','Vergennes, Charles Gravier, Comte de', regex=True)\n",
    "df[['authors','recipients']] = df[['authors','recipients']].replace('Dumas, Charles-Guillaume-Frédéric','Dumas, Charles William Frederic', regex=True)\n",
    "df[['authors','recipients']] = df[['authors','recipients']].replace('Dumas, C. W. F.','Dumas, Charles William Frederic', regex=True)\n",
    "df[['authors','recipients']] = df[['authors','recipients']].replace('Boudinot, Elias Jr.','Boudinot, Elias', regex=True)\n",
    "df[['authors','recipients']] = df[['authors','recipients']].replace('Bowdinot, Elias','Boudinot, Elias', regex=True)\n",
    "df[['authors','recipients']] = df[['authors','recipients']].replace('Schuyler, Philip John','Schuyler, Philip', regex=True)\n",
    "df[['authors','recipients']] = df[['authors','recipients']].replace('Lee, Henry Jr.','Lee, Henry', regex=True)\n",
    "df[['authors','recipients']] = df[['authors','recipients']].replace('Nelson, Thomas Jr.','Nelson, Thomas', regex=True)\n",
    "df[['authors','recipients']] = df[['authors','recipients']].replace('Muhlenberg, John Peter Gabriel','Muhlenberg, Peter', regex=True)\n",
    "df[['authors','recipients']] = df[['authors','recipients']].replace('Harrison, Benjamin Sr.','Harrison, Benjamin', regex=True)\n",
    "df[['authors','recipients']] = df[['authors','recipients']].replace('Williams, Jonathan Jr.','Williams, Jonathan', regex=True)\n",
    "df[['authors','recipients']] = df[['authors','recipients']].replace('Wharton, Thomas Jr.','Wharton, Thomas', regex=True)\n",
    "df[['authors','recipients']] = df[['authors','recipients']].replace('Virginia Delegates in Congress','Virginia Delegates', regex=True)\n",
    "df[['authors','recipients']] = df[['authors','recipients']].replace('Virginia Delegates, American Continental Congress','Virginia Delegates', regex=True)\n",
    "df[['authors','recipients']] = df[['authors','recipients']].replace('Thaxter, John Jr.','Thaxter, John', regex=True)\n",
    "df[['authors','recipients']] = df[['authors','recipients']].replace('Schweighauser, John Daniel','Schweighauser, Jean-Daniel', regex=True)\n",
    "df[['authors','recipients']] = df[['authors','recipients']].replace('Rendon, Francisco','Rendón, Francisco', regex=True)\n",
    "df[['authors','recipients']] = df[['authors','recipients']].replace('Neufville, Jean de','Neufville, Jean [de]', regex=True)\n",
    "df[['authors','recipients']] = df[['authors','recipients']].replace('Neufville, Leendert de','Neufville, Leonard [de]', regex=True)\n",
    "df[['authors','recipients']] = df[['authors','recipients']].replace('McDougall, Maj. Gen. Alexander','McDougall, Alexander', regex=True)\n",
    "df[['authors','recipients']] = df[['authors','recipients']].replace('Malcom, Colonel William','Malcom, William', regex=True)\n",
    "df[['authors','recipients']] = df[['authors','recipients']].replace('Létombe, Philippe-André-Joseph de','Létombe, Philippe André Joseph de', regex=True)\n",
    "df[['authors','recipients']] = df[['authors','recipients']].replace('Johnson, Thomas Jr.','Johnson, Thomas', regex=True)\n",
    "df[['authors','recipients']] = df[['authors','recipients']].replace('Hamilton, Alexander (Lieutenant Colonel)','Hamilton, Alexander', regex=True)\n",
    "df[['authors','recipients']] = df[['authors','recipients']].replace('Greene, Nathaniel','Greene, Nathanael', regex=True)\n",
    "df[['authors','recipients']] = df[['authors','recipients']].replace('Gérard, Conrad-Alexandre','Gérard, Conrad Alexandre', regex=True)\n",
    "df[['authors','recipients']] = df[['authors','recipients']].replace('Genet, Edme-Jacques','Genet, Edmé Jacques', regex=True)\n",
    "df[['authors','recipients']] = df[['authors','recipients']].replace('Dana, Francis M.','Dana, Francis', regex=True)\n",
    "df[['authors','recipients']] = df[['authors','recipients']].replace('Cooke, Nicholas Sr.','Cooke, Nicholas', regex=True)\n",
    "df[['authors','recipients']] = df[['authors','recipients']].replace('Chaumont, Jacques Donatien, Leray de','Chaumont, Jacques-Donatien Le Ray de', regex=True)\n",
    "df[['authors','recipients']] = df[['authors','recipients']].replace('Church, William Singleton','Digges, Thomas', regex=True)\n",
    "df[['authors','recipients']] = df[['authors','recipients']].replace('Fitzpatrick, William','Digges, Thomas', regex=True)\n",
    "df[['authors','recipients']] = df[['authors','recipients']].replace('Dundas, T.','Digges, Thomas', regex=True)\n",
    "df[['authors','recipients']] = df[['authors','recipients']].replace('Ross, Timothy D.','Digges, Thomas', regex=True) #Thomas Digges used pseudonyms\n",
    "df[['authors','recipients']] = df[['authors','recipients']].replace('Beaumarchais, Pierre-Augustin Caron de','Beaumarchais, Pierre Augustin Caron de', regex=True)\n",
    "df[['authors','recipients']] = df[['authors','recipients']].replace('Rochambeau, Comte de','Rochambeau, Jean-Baptiste Donatien de Vimeur, comte de', regex=True) \n",
    "df[['authors','recipients']] = df[['authors','recipients']].replace('Rochambeau, Jean-Baptiste-Donatien de Vimeur, comte de, Jean-Baptiste Donatien de Vimeur, comte de', regex=True) \n",
    "df[['authors','recipients']] = df[['authors','recipients']].replace('Barbé de Marbois, François','Barbé-Marbois (Barbé de Marbois), François', regex=True) \n",
    "df[['authors','recipients']] = df[['authors','recipients']].replace('Barbé-Marbois, François de','Barbé-Marbois (Barbé de Marbois), François', regex=True) \n",
    "df[['authors','recipients']] = df[['authors','recipients']].replace('Barbé-Marbois, François','Barbé-Marbois (Barbé de Marbois), François', regex=True) \n",
    "df[['authors','recipients']] = df[['authors','recipients']].replace('Barbé-Marbois, Marquis de','Barbé-Marbois (Barbé de Marbois), François', regex=True) \n",
    "df[['authors','recipients']] = df[['authors','recipients']].replace('Barbé-Marbois, Pierre-François','Barbé-Marbois (Barbé de Marbois), François', regex=True) \n",
    "df[['authors','recipients']] = df[['authors','recipients']].replace('Marbois, François Barbé de','Barbé-Marbois (Barbé de Marbois), François', regex=True) \n",
    "df[['authors','recipients']] = df[['authors','recipients']].replace('Marbois, François Marquis de Barbé-Marbois','Barbé-Marbois (Barbé de Marbois), François', regex=True) \n",
    "df[['authors','recipients']] = df[['authors','recipients']].replace('La Vauguyon, Paul-François de Quélen de Stuer de Caussade, duc de','La Vauguyon, Paul François de Quélen de Stuer de Causade, Duc de', regex=True) \n",
    "df[['authors','recipients']] = df[['authors','recipients']].replace('Dubuysson des Aix, Charles-François, chevalier','Du Buysson des Aix, Charles-François, vicomte', regex=True) \n",
    "df[['authors','recipients']] = df[['authors','recipients']].replace('Destouches, —— (f. 1779–80)', 'Charles-René-Dominique Sochet', regex=True) \n",
    "df[['authors','recipients']] = df[['authors','recipients']].replace('Destouches, —— (f. 1780–1782)','Destouches, Charles-René-Dominique Sochet', regex=True) \n",
    "df[['authors','recipients']] = df[['authors','recipients']].replace('Destouches, ——','Destouches, Charles-René-Dominique Sochet', regex=True) \n",
    "df[['authors','recipients']] = df[['authors','recipients']].replace('Destouches, Chevalier','Destouches, Charles-René-Dominique Sochet', regex=True)\n",
    "df[['authors','recipients']] = df[['authors','recipients']].replace('Destouches, Charles-René-Dominique Sochet \\(f. 1779–80\\)','Destouches, Charles-René-Dominique Sochet', regex=True)\n",
    "df[['authors','recipients']] = df[['authors','recipients']].replace('Destouches, Charles-René-Dominique Sochet \\(f. 1780–1782\\)','Destouches, Charles-René-Dominique Sochet', regex=True)\n",
    "df[['authors','recipients']] = df[['authors','recipients']].replace('Chaumont, Jacques-Donatien Le Ray de', 'Chaumont, Jacques Donatien, Leray de', regex=True) \n",
    "df[['authors','recipients']] = df[['authors','recipients']].replace('Sartine, Antoine-Raymond-Gualbert-Gabriel de', 'Sartine, Antoine Raymond Jean Gualbert Gabriel de', regex=True) \n",
    "df[['authors','recipients']] = df[['authors','recipients']].replace('Armand, Charles', 'Armand (Armand-Charles Tuffin, marquis de La Rouërie)', regex=True) \n",
    "df[['authors','recipients']] = df[['authors','recipients']].replace('Armand Tuffin, Charles, marquis de La Rouërie', 'Armand (Armand-Charles Tuffin, marquis de La Rouërie)', regex=True) \n",
    "df[['authors','recipients']] = df[['authors','recipients']].replace('Estaing, Charles-Hector Theodat, comte d’', 'Estaing, Charles-Hector Théodat, comte d’', regex=True) \n",
    "df[['authors','recipients']] = df[['authors','recipients']].replace('Estaing, Charles-Hector, comte d’', 'Estaing, Charles-Hector Théodat, comte d’', regex=True) \n",
    "df[['authors','recipients']] = df[['authors','recipients']].replace('Estaing, Charles-Henri, comte d’', 'Estaing, Charles-Hector Théodat, comte d’', regex=True) \n",
    "df[['authors','recipients']] = df[['authors','recipients']].replace('Caracciolo, Domenico, Marchese di Villamaina', 'Caracciolo, Domenico, Marchesse di Villa Marina', regex=True) \n",
    "df[['authors','recipients']] = df[['authors','recipients']].replace('Arendt, Henry Leonard Philip, baron d’', 'Arendt, Henry Leonard Philip', regex=True)\n",
    "df[['authors','recipients']] = df[['authors','recipients']].replace('Trumbull, Jonathan Sr.', 'Trumbull, Jonathan', regex=True) \n",
    "df[['authors','recipients']] = df[['authors','recipients']].replace('Berubé de Costentin, ——', 'Costentin, Berubé de', regex=True) \n",
    "df[['authors','recipients']] = df[['authors','recipients']].replace('Rocquette, Jacques, Elsevier, T. A.', 'Rocqùette, J.,Th. A. Elsevier, & P. Th. Rocqùette,', regex=True) \n",
    "df[['authors','recipients']] = df[['authors','recipients']].replace('Dubbeldemuts, Adrianus', 'Dubbeldemuts, F. & A.', regex=True) \n",
    "df[['authors','recipients']] = df[['authors','recipients']].replace('Dubbeldemuts, Franco', 'Dubbeldemuts, F. & A.', regex=True) \n",
    "df[['authors','recipients']] = df[['authors','recipients']].replace('Parsons, Samuel Holden', 'Parsons, Samuel H.', regex=True)\n",
    "df[['authors','recipients']] = df[['authors','recipients']].replace('Stirling, Lord \\(née William Alexander\\)','Stirling, Lord (né William Alexander)', regex=True)\n",
    "df[['authors','recipients']] = df[['authors','recipients']].replace('Alexander, William Lord Stirling','Stirling, Lord (né William Alexander)', regex=True)\n",
    "df[['authors','recipients']] = df[['authors','recipients']].replace('Stirling, Major General','Stirling, Lord (né William Alexander)', regex=True)\n",
    "df[['authors','recipients']] = df[['authors','recipients']].replace('Alexander, William','Stirling, Lord (né William Alexander)', regex=True)\n",
    "df[['authors','recipients']] = df[['authors','recipients']].replace('La Lande & Fynje, de','La Lande & Fynje', regex=True)\n",
    "df[['authors','recipients']] = df[['authors','recipients']].replace('Horneca, Fizeaux & Cie.','Horneca, Fizeaux & Co.', regex=True)\n",
    "df[['authors','recipients']] = df[['authors','recipients']].replace('Staphorst, Nicholas & Jacob van','Staphorst, Nicolaas & Jacob van', regex=True)\n",
    "df[['authors','recipients']] = df[['authors','recipients']].replace('Ambler, Jaquelin \\(Jacquelin\\)','Ambler, Jacquelin', regex=True)\n",
    "df[['authors','recipients']] = df[['authors','recipients']].replace('La Luzerne, Anne César, Chevalier de','La Luzerne, Anne-César, chevalier de', regex=True)"
   ]
  },
  {
   "cell_type": "code",
   "execution_count": 7,
   "metadata": {
    "executionInfo": {
     "elapsed": 5933,
     "status": "ok",
     "timestamp": 1666103667327,
     "user": {
      "displayName": "T. Hoekstra",
      "userId": "15583416116369470687"
     },
     "user_tz": -120
    },
    "id": "wzngBeKINUlY"
   },
   "outputs": [],
   "source": [
    "#downloading the csv with the results\n",
    "df.to_csv(\"../data/archive_data/founders_online_data_exploration_data.csv\")"
   ]
  },
  {
   "cell_type": "markdown",
   "metadata": {
    "id": "uyIUoAfQaHzG"
   },
   "source": [
    "## Converting to network tables\n",
    "\n",
    "In this section I will be converting the data from Founders Online to be usable for our social network analysis. This first starts by unnesting the authors and recipients, and then applying some further filters. The unnesting is necessary as letters can (and do!) have multiple authors and/or recipients. Unnesting then means every combination author and/or recipient will get their own entry within the dataset. Additionaly, some filtering will be done to remove unknown, anonymous and otherwise non-existant authors. Additionally entries with certain other authors or recipients will be removed due to various reasons. \n",
    "\n",
    "In the second part functions are defined to make an edgelist in a directional graph format. This will be done by feeding the unnested dataframe through a networkx graph and exporting is as a dataframe back again. During this process also a weight value will be assigned which is equivalent to the amount of letters send by one author to any of their recipients. Based on the new edgelist, a nodelist will be generated. The edge and nodelists will then be downloaded into their respective data directory.\n",
    "\n",
    "The resulting edgelist and nodelist is mainly meant to be used in the social networking tool Gephi. However it should also be compatible with a tool such as Palladio. Other tools have not been tested."
   ]
  },
  {
   "cell_type": "code",
   "execution_count": 8,
   "metadata": {
    "executionInfo": {
     "elapsed": 20,
     "status": "ok",
     "timestamp": 1666103667328,
     "user": {
      "displayName": "T. Hoekstra",
      "userId": "15583416116369470687"
     },
     "user_tz": -120
    },
    "id": "3XSiVOaxfBcs"
   },
   "outputs": [],
   "source": [
    "#defining function to remove any non existant authors and unwanted authors and recipients.\n",
    "def remove_author_recipient(df, names):\n",
    "  for name in names:\n",
    "    df = df[df['authors'].str.contains(name)==False]\n",
    "    df = df[df['recipients'].str.contains(name)==False]\n",
    "  df = df.dropna(subset=['authors'])\n",
    "  return df\n",
    "\n",
    "names = ['Unknown','UNKNOWN','Anonymous','First Joint Commission at Paris', \n",
    "         'American Commissioners','Son','Son ()','Sons ()','Cie.',' Cie.', 'fils'\n",
    "         , 'et al.','Zoon ()', 'American Peace Commissioners','William Bradford'\n",
    "         ,'Smith, William', 'Smith, John','Thornton, John','Rocquette, Pieter Th.']"
   ]
  },
  {
   "cell_type": "code",
   "execution_count": 9,
   "metadata": {
    "colab": {
     "base_uri": "https://localhost:8080/"
    },
    "executionInfo": {
     "elapsed": 1696,
     "status": "ok",
     "timestamp": 1666103669005,
     "user": {
      "displayName": "T. Hoekstra",
      "userId": "15583416116369470687"
     },
     "user_tz": -120
    },
    "id": "8_n1raBcfPd0",
    "outputId": "9edf4c1f-fa97-4d79-e439-fe3131540c6c",
    "scrolled": true
   },
   "outputs": [
    {
     "name": "stderr",
     "output_type": "stream",
     "text": [
      "<ipython-input-8-9ece40659a4f>:4: UserWarning: This pattern is interpreted as a regular expression, and has match groups. To actually get the groups, use str.extract.\n",
      "  df = df[df['authors'].str.contains(name)==False]\n",
      "<ipython-input-8-9ece40659a4f>:5: UserWarning: This pattern is interpreted as a regular expression, and has match groups. To actually get the groups, use str.extract.\n",
      "  df = df[df['recipients'].str.contains(name)==False]\n"
     ]
    }
   ],
   "source": [
    "#unnesting the authors and recipients and applying the previously defined function\n",
    "df = df[['authors','recipients','id']].set_index(['id']).apply(lambda x: x.str.split('|')).explode('authors').explode('recipients').reset_index() \n",
    "df['authors'] = df['authors'].str.strip()\n",
    "df['recipients'] = df['recipients'].str.strip()                                                                                                  \n",
    "df = remove_author_recipient(df,names).reset_index(drop=True)"
   ]
  },
  {
   "cell_type": "code",
   "execution_count": 10,
   "metadata": {
    "executionInfo": {
     "elapsed": 15,
     "status": "ok",
     "timestamp": 1666103669006,
     "user": {
      "displayName": "T. Hoekstra",
      "userId": "15583416116369470687"
     },
     "user_tz": -120
    },
    "id": "B1ryz4nCahG1"
   },
   "outputs": [],
   "source": [
    "#defining the edgelist generator and generating a network graph\n",
    "def edgelist_gen(df):\n",
    "  edgelist = df[['authors','recipients']]\n",
    "  edgelist['Weight'] = edgelist.groupby(['authors', 'recipients'])['authors'].transform(len)\n",
    "  edgelist = edgelist.rename(columns={\"authors\":\"Source\"}).rename(columns={\"recipients\":\"Target\"})\n",
    "  return edgelist\n",
    "\n",
    "def nxgraphing (edgelist):  \n",
    "  G = nx.from_pandas_edgelist(edgelist, source='Source',target='Target', edge_attr='Weight', create_using=nx.DiGraph())\n",
    "  #remove = [edge for edge, degree in G.degree() if degree < 2] #here we specify that we only want nodes with at least 2 degrees in our graph\n",
    "  #G.remove_nodes_from(remove)\n",
    "  return G"
   ]
  },
  {
   "cell_type": "code",
   "execution_count": 11,
   "metadata": {
    "colab": {
     "base_uri": "https://localhost:8080/"
    },
    "executionInfo": {
     "elapsed": 14,
     "status": "ok",
     "timestamp": 1666103669007,
     "user": {
      "displayName": "T. Hoekstra",
      "userId": "15583416116369470687"
     },
     "user_tz": -120
    },
    "id": "ZojZBWt2ail1",
    "outputId": "656a54c9-8d8b-453f-92d8-c8f9bbb8dcca"
   },
   "outputs": [],
   "source": [
    "#applying the functions and describing the graph\n",
    "G = nxgraphing(edgelist_gen(df))\n",
    "#print(nx.info(G))"
   ]
  },
  {
   "cell_type": "code",
   "execution_count": 12,
   "metadata": {
    "executionInfo": {
     "elapsed": 11,
     "status": "ok",
     "timestamp": 1666103669007,
     "user": {
      "displayName": "T. Hoekstra",
      "userId": "15583416116369470687"
     },
     "user_tz": -120
    },
    "id": "yqsMQrUeakDt"
   },
   "outputs": [
    {
     "name": "stdout",
     "output_type": "stream",
     "text": [
      "edgelist saved\n",
      "nodelist saved\n"
     ]
    }
   ],
   "source": [
    "#downloading the edgelist and nodelist\n",
    "df_edge = nx.to_pandas_edgelist(G, source='Source',target='Target')\n",
    "df_edge.to_csv(\"../data/network_data/gephi_input/lotrp_edges.csv\", sep=';', index=False)\n",
    "print('edgelist saved')\n",
    "\n",
    "df_nodes=pd.DataFrame(np.unique(df_edge[['Source', 'Target']].astype(str).values))\n",
    "df_nodes.to_csv(\"../data/network_data/gephi_input/lotrp_nodes.csv\", sep=';', header=['Node'], index_label=['Id'])\n",
    "print('nodelist saved')"
   ]
  }
 ],
 "metadata": {
  "colab": {
   "authorship_tag": "ABX9TyOgUDtXF/kg3fC2npwcbaeK",
   "provenance": []
  },
  "kernelspec": {
   "display_name": "Python 3",
   "language": "python",
   "name": "python3"
  },
  "language_info": {
   "codemirror_mode": {
    "name": "ipython",
    "version": 3
   },
   "file_extension": ".py",
   "mimetype": "text/x-python",
   "name": "python",
   "nbconvert_exporter": "python",
   "pygments_lexer": "ipython3",
   "version": "3.8.8"
  }
 },
 "nbformat": 4,
 "nbformat_minor": 1
}
