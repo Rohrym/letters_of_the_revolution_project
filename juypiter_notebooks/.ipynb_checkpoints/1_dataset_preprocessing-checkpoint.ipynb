{
 "cells": [
  {
   "cell_type": "markdown",
   "metadata": {
    "id": "FQAQeYf1YDFb"
   },
   "source": [
    "# Data preprocessing\n"
   ]
  },
  {
   "cell_type": "code",
   "execution_count": 1,
   "metadata": {
    "executionInfo": {
     "elapsed": 9,
     "status": "ok",
     "timestamp": 1666103639269,
     "user": {
      "displayName": "T. Hoekstra",
      "userId": "15583416116369470687"
     },
     "user_tz": -120
    },
    "id": "hqsAiY5lnPqE"
   },
   "outputs": [],
   "source": [
    "import pandas as pd\n",
    "import numpy as np\n",
    "import networkx as nx"
   ]
  },
  {
   "cell_type": "code",
   "execution_count": 5,
   "metadata": {
    "executionInfo": {
     "elapsed": 13585,
     "status": "ok",
     "timestamp": 1666103652846,
     "user": {
      "displayName": "T. Hoekstra",
      "userId": "15583416116369470687"
     },
     "user_tz": -120
    },
    "id": "v4_naFMunYZg"
   },
   "outputs": [
    {
     "ename": "SyntaxError",
     "evalue": "(unicode error) 'unicodeescape' codec can't decode bytes in position 2-3: truncated \\UXXXXXXXX escape (<ipython-input-5-15b09b59cbcd>, line 2)",
     "output_type": "error",
     "traceback": [
      "\u001b[1;36m  File \u001b[1;32m\"<ipython-input-5-15b09b59cbcd>\"\u001b[1;36m, line \u001b[1;32m2\u001b[0m\n\u001b[1;33m    df = pd.read_csv(\"C:\\Users\\TThom\\Documents\\Academics\\The_Letters_of_the_Revolution_Project\\Data\\Archive Data\\founders_online_archive_raw.csv\")\u001b[0m\n\u001b[1;37m                     ^\u001b[0m\n\u001b[1;31mSyntaxError\u001b[0m\u001b[1;31m:\u001b[0m (unicode error) 'unicodeescape' codec can't decode bytes in position 2-3: truncated \\UXXXXXXXX escape\n"
     ]
    }
   ],
   "source": [
    "#uploading the data\n",
    "df = pd.read_csv(\"C:/Users/TThom\\Documents\\Academics\\The_Letters_of_the_Revolution_Project\\Data\\Archive Data\\founders_online_archive_raw.csv\")\n",
    "df = df.loc[df['period'] == 'Revolutionary War']"
   ]
  },
  {
   "cell_type": "code",
   "execution_count": null,
   "metadata": {
    "id": "i9i4BoGIhlPT"
   },
   "outputs": [],
   "source": [
    "#df.info()\n",
    "#df.sample()"
   ]
  },
  {
   "cell_type": "markdown",
   "metadata": {
    "id": "A9tSxSi3YLGL"
   },
   "source": [
    "##Filtering, dropping duplicates and name disambiguation"
   ]
  },
  {
   "cell_type": "code",
   "execution_count": 121,
   "metadata": {
    "executionInfo": {
     "elapsed": 583,
     "status": "ok",
     "timestamp": 1666103653422,
     "user": {
      "displayName": "T. Hoekstra",
      "userId": "15583416116369470687"
     },
     "user_tz": -120
    },
    "id": "u8CWtEv_nyBh"
   },
   "outputs": [],
   "source": [
    "#dropping any content without recipients so we only have correspondence. Additionally dropping duplicate texts and correcting some inconsistencies in authors/recipients.\n",
    "df = df.dropna(subset=['recipients']).drop_duplicates(subset=['text'])\n",
    "df[['authors', 'recipients']] = df[['authors', 'recipients']].replace(', & Fins',' & Fins', regex=True)\n",
    "df[['authors', 'recipients']] = df[['authors', 'recipients']].replace(', & Cie.',' & Cie.', regex=True)\n",
    "df[['authors', 'recipients']] = df[['authors', 'recipients']].replace(', & ',' | ', regex=True)\n",
    "df[['authors', 'recipients']] = df[['authors', 'recipients']].replace(', Jr.',' Jr.', regex=True)\n",
    "df[['authors', 'recipients']] = df[['authors', 'recipients']].replace(', Sr.',' Sr.', regex=True)"
   ]
  },
  {
   "cell_type": "code",
   "execution_count": 122,
   "metadata": {
    "executionInfo": {
     "elapsed": 7454,
     "status": "ok",
     "timestamp": 1666103660873,
     "user": {
      "displayName": "T. Hoekstra",
      "userId": "15583416116369470687"
     },
     "user_tz": -120
    },
    "id": "bGgRIve9v8Jk"
   },
   "outputs": [],
   "source": [
    "df[['authors','recipients']] = df[['authors','recipients']].replace('Adams, Abigail Smith','Adams, Abigail', regex=True)\n",
    "df[['authors','recipients']] = df[['authors','recipients']].replace('Stirling, Lord (né William Alexander)','Stirling, Lord (née William Alexander)', regex=True)\n",
    "df[['authors','recipients']] = df[['authors','recipients']].replace('Alexander, William Lord Stirling','Stirling, Lord (née William Alexander)', regex=True)\n",
    "df[['authors','recipients']] = df[['authors','recipients']].replace('Stirling, Major General','Stirling, Lord (née William Alexander)', regex=True)\n",
    "df[['authors','recipients']] = df[['authors','recipients']].replace('Steuben, Major General','Steuben, Friedrich Wilhelm Ludolf Gerhard Augustin, Baron [von]', regex=True)\n",
    "df[['authors','recipients']] = df[['authors','recipients']].replace('Steuben, Friedrich Wilhelm Ludolf Gerhard Augustin, Baron von','Steuben, Friedrich Wilhelm Ludolf Gerhard Augustin, Baron [von]', regex=True)\n",
    "df[['authors','recipients']] = df[['authors','recipients']].replace('Steuben, Friedrich Wilhelm Ludolf Gerhard Augustin, baron von','Steuben, Friedrich Wilhelm Ludolf Gerhard Augustin, Baron [von]', regex=True)\n",
    "df[['authors','recipients']] = df[['authors','recipients']].replace('Steuben, Baron von','Steuben, Friedrich Wilhelm Ludolf Gerhard Augustin, Baron [von]', regex=True)\n",
    "df[['authors','recipients']] = df[['authors','recipients']].replace('Vergennes, Charles Gravier, comte de','Vergennes, Charles Gravier, Comte de', regex=True)\n",
    "df[['authors','recipients']] = df[['authors','recipients']].replace('Dumas, Charles-Guillaume-Frédéric','Dumas, Charles William Frederic', regex=True)\n",
    "df[['authors','recipients']] = df[['authors','recipients']].replace('Dumas, C. W. F.','Dumas, Charles William Frederic', regex=True)\n",
    "df[['authors','recipients']] = df[['authors','recipients']].replace('Boudinot, Elias Jr.','Boudinot, Elias', regex=True)\n",
    "df[['authors','recipients']] = df[['authors','recipients']].replace('Bowdinot, Elias','Boudinot, Elias', regex=True)\n",
    "df[['authors','recipients']] = df[['authors','recipients']].replace('Schuyler, Philip John','Schuyler, Philip', regex=True)\n",
    "df[['authors','recipients']] = df[['authors','recipients']].replace('Lee, Henry Jr.','Lee, Henry', regex=True)\n",
    "df[['authors','recipients']] = df[['authors','recipients']].replace('Nelson, Thomas Jr.','Nelson, Thomas', regex=True)\n",
    "df[['authors','recipients']] = df[['authors','recipients']].replace('Muhlenberg, John Peter Gabriel','Muhlenberg, Peter', regex=True)\n",
    "df[['authors','recipients']] = df[['authors','recipients']].replace('Harrison, Benjamin Sr.','Harrison, Benjamin', regex=True)\n",
    "df[['authors','recipients']] = df[['authors','recipients']].replace('Williams, Jonathan Jr.','Williams, Jonathan', regex=True)\n",
    "df[['authors','recipients']] = df[['authors','recipients']].replace('Wharton, Thomas Jr.','Wharton, Thomas', regex=True)\n",
    "df[['authors','recipients']] = df[['authors','recipients']].replace('Virginia Delegates in Congress','Virginia Delegates', regex=True)\n",
    "df[['authors','recipients']] = df[['authors','recipients']].replace('Virginia Delegates, American Continental Congress','Virginia Delegates', regex=True)\n",
    "df[['authors','recipients']] = df[['authors','recipients']].replace('Thaxter, John Jr.','Thaxter, John', regex=True)\n",
    "df[['authors','recipients']] = df[['authors','recipients']].replace('Schweighauser, John Daniel','Schweighauser, Jean-Daniel', regex=True)\n",
    "df[['authors','recipients']] = df[['authors','recipients']].replace('Rendon, Francisco','Rendón, Francisco', regex=True)\n",
    "df[['authors','recipients']] = df[['authors','recipients']].replace('Neufville, Jean de','Neufville, Jean [de]', regex=True)\n",
    "df[['authors','recipients']] = df[['authors','recipients']].replace('Neufville, Leendert de','Neufville, Leonard [de]', regex=True)\n",
    "df[['authors','recipients']] = df[['authors','recipients']].replace('McDougall, Maj. Gen. Alexander','McDougall, Alexander', regex=True)\n",
    "df[['authors','recipients']] = df[['authors','recipients']].replace('Malcom, Colonel William','Malcom, William', regex=True)\n",
    "df[['authors','recipients']] = df[['authors','recipients']].replace('Létombe, Philippe-André-Joseph de','Létombe, Philippe André Joseph de', regex=True)\n",
    "df[['authors','recipients']] = df[['authors','recipients']].replace('Johnson, Thomas Jr.','Johnson, Thomas', regex=True)\n",
    "df[['authors','recipients']] = df[['authors','recipients']].replace('Hamilton, Alexander (Lieutenant Colonel)','Hamilton, Alexander', regex=True)\n",
    "df[['authors','recipients']] = df[['authors','recipients']].replace('Greene, Nathaniel','Greene, Nathanael', regex=True)\n",
    "df[['authors','recipients']] = df[['authors','recipients']].replace('Gérard, Conrad-Alexandre','Gérard, Conrad Alexandre', regex=True)\n",
    "df[['authors','recipients']] = df[['authors','recipients']].replace('Genet, Edme-Jacques','Genet, Edmé Jacques', regex=True)\n",
    "df[['authors','recipients']] = df[['authors','recipients']].replace('Dana, Francis M.','Dana, Francis', regex=True)\n",
    "df[['authors','recipients']] = df[['authors','recipients']].replace('Cooke, Nicholas Sr.','Cooke, Nicholas', regex=True)\n",
    "df[['authors','recipients']] = df[['authors','recipients']].replace('Chaumont, Jacques Donatien, Leray de','Chaumont, Jacques-Donatien Le Ray de', regex=True)\n",
    "df[['authors','recipients']] = df[['authors','recipients']].replace('Church, William Singleton','Digges, Thomas', regex=True)\n",
    "df[['authors','recipients']] = df[['authors','recipients']].replace('Fitzpatrick, William','Digges, Thomas', regex=True)\n",
    "df[['authors','recipients']] = df[['authors','recipients']].replace('Dundas, T.','Digges, Thomas', regex=True)\n",
    "df[['authors','recipients']] = df[['authors','recipients']].replace('Ross, Timothy D.','Digges, Thomas', regex=True) #Thomas Digges used pseudonyms\n",
    "df[['authors','recipients']] = df[['authors','recipients']].replace('Beaumarchais, Pierre-Augustin Caron de','Beaumarchais, Pierre Augustin Caron de', regex=True)\n",
    "df[['authors','recipients']] = df[['authors','recipients']].replace('Trumbull, Jonathan Sr.','Trumbull, Jonathan', regex=True) \n",
    "df[['authors','recipients']] = df[['authors','recipients']].replace('Rochambeau, Comte de','Rochambeau, Jean-Baptiste Donatien de Vimeur, comte de', regex=True) \n",
    "df[['authors','recipients']] = df[['authors','recipients']].replace('Rochambeau, Jean-Baptiste-Donatien de Vimeur, comte de, Jean-Baptiste Donatien de Vimeur, comte de', regex=True) \n",
    "df[['authors','recipients']] = df[['authors','recipients']].replace('Barbé de Marbois, François','Barbé-Marbois (Barbé de Marbois), François', regex=True) \n",
    "df[['authors','recipients']] = df[['authors','recipients']].replace('Barbé-Marbois, François de','Barbé-Marbois (Barbé de Marbois), François', regex=True) \n",
    "df[['authors','recipients']] = df[['authors','recipients']].replace('Barbé-Marbois, François','Barbé-Marbois (Barbé de Marbois), François', regex=True) \n",
    "df[['authors','recipients']] = df[['authors','recipients']].replace('Barbé-Marbois, Marquis de','Barbé-Marbois (Barbé de Marbois), François', regex=True) \n",
    "df[['authors','recipients']] = df[['authors','recipients']].replace('Barbé-Marbois, Pierre-François','Barbé-Marbois (Barbé de Marbois), François', regex=True) \n",
    "df[['authors','recipients']] = df[['authors','recipients']].replace('Marbois, François Barbé de','Barbé-Marbois (Barbé de Marbois), François', regex=True) \n",
    "df[['authors','recipients']] = df[['authors','recipients']].replace('Marbois, François Marquis de Barbé-Marbois','Barbé-Marbois (Barbé de Marbois), François', regex=True) \n",
    "df[['authors','recipients']] = df[['authors','recipients']].replace('La Vauguyon, Paul-François de Quélen de Stuer de Caussade, duc de','La Vauguyon, Paul François de Quélen de Stuer de Causade, Duc de', regex=True) \n",
    "df[['authors','recipients']] = df[['authors','recipients']].replace('Dubuysson des Aix, Charles-François, chevalier','Du Buysson des Aix, Charles-François, vicomte', regex=True) \n",
    "df[['authors','recipients']] = df[['authors','recipients']].replace('Destouches, —— (f. 1779–80)', 'Charles-René-Dominique Sochet', regex=True) \n",
    "df[['authors','recipients']] = df[['authors','recipients']].replace('Destouches, —— (f. 1780–1782)','Destouches, Charles-René-Dominique Sochet', regex=True) \n",
    "df[['authors','recipients']] = df[['authors','recipients']].replace('Destouches, ——','Destouches, Charles-René-Dominique Sochet', regex=True) \n",
    "df[['authors','recipients']] = df[['authors','recipients']].replace('Destouches, Chevalier','Destouches, Charles-René-Dominique Sochet', regex=True) \n",
    "df[['authors','recipients']] = df[['authors','recipients']].replace('Chaumont, Jacques-Donatien Le Ray de', 'Chaumont, Jacques Donatien, Leray de', regex=True) \n",
    "df[['authors','recipients']] = df[['authors','recipients']].replace('Sartine, Antoine-Raymond-Gualbert-Gabriel de', 'Sartine, Antoine Raymond Jean Gualbert Gabriel de', regex=True) \n",
    "df[['authors','recipients']] = df[['authors','recipients']].replace('Armand, Charles', 'Armand (Armand-Charles Tuffin, marquis de La Rouërie)', regex=True) \n",
    "df[['authors','recipients']] = df[['authors','recipients']].replace('Armand Tuffin, Charles, marquis de La Rouërie', 'Armand (Armand-Charles Tuffin, marquis de La Rouërie)', regex=True) \n",
    "df[['authors','recipients']] = df[['authors','recipients']].replace('Estaing, Charles-Hector Theodat, comte d’', 'Estaing, Charles-Hector Théodat, comte d’', regex=True) \n",
    "df[['authors','recipients']] = df[['authors','recipients']].replace('Estaing, Charles-Hector, comte d’', 'Estaing, Charles-Hector Théodat, comte d’', regex=True) \n",
    "df[['authors','recipients']] = df[['authors','recipients']].replace('Estaing, Charles-Henri, comte d’', 'Estaing, Charles-Hector Théodat, comte d’', regex=True) "
   ]
  },
  {
   "cell_type": "code",
   "execution_count": 125,
   "metadata": {
    "executionInfo": {
     "elapsed": 5933,
     "status": "ok",
     "timestamp": 1666103667327,
     "user": {
      "displayName": "T. Hoekstra",
      "userId": "15583416116369470687"
     },
     "user_tz": -120
    },
    "id": "wzngBeKINUlY"
   },
   "outputs": [],
   "source": [
    "df.to_csv('/content/drive/Shareddrives/Letters of the Revolution Project/Repo: Revolutionary War/Data/Archive data/founders_online_archive_revwar_cooked.csv')"
   ]
  },
  {
   "cell_type": "markdown",
   "metadata": {
    "id": "uyIUoAfQaHzG"
   },
   "source": [
    "## Converting to network tables"
   ]
  },
  {
   "cell_type": "code",
   "execution_count": 126,
   "metadata": {
    "executionInfo": {
     "elapsed": 20,
     "status": "ok",
     "timestamp": 1666103667328,
     "user": {
      "displayName": "T. Hoekstra",
      "userId": "15583416116369470687"
     },
     "user_tz": -120
    },
    "id": "3XSiVOaxfBcs"
   },
   "outputs": [],
   "source": [
    "def remove_author_recipient(df, names):\n",
    "  for name in names:\n",
    "    df = df[df['authors'].str.contains(name)==False]\n",
    "    df = df[df['recipients'].str.contains(name)==False]\n",
    "  df = df.dropna(subset=['authors'])\n",
    "  return df\n",
    "\n",
    "names = ['Unknown','UNKNOWN','Anonymous','First Joint Commission at Paris', 'American Commissioners','Son','Son ()','Sons ()','Cie.',' Cie.', 'fils', 'et al.','Zoon ()']"
   ]
  },
  {
   "cell_type": "code",
   "execution_count": 127,
   "metadata": {
    "colab": {
     "base_uri": "https://localhost:8080/"
    },
    "executionInfo": {
     "elapsed": 1696,
     "status": "ok",
     "timestamp": 1666103669005,
     "user": {
      "displayName": "T. Hoekstra",
      "userId": "15583416116369470687"
     },
     "user_tz": -120
    },
    "id": "8_n1raBcfPd0",
    "outputId": "9edf4c1f-fa97-4d79-e439-fe3131540c6c"
   },
   "outputs": [
    {
     "name": "stderr",
     "output_type": "stream",
     "text": [
      "/usr/local/lib/python3.7/dist-packages/ipykernel_launcher.py:3: UserWarning: This pattern has match groups. To actually get the groups, use str.extract.\n",
      "  This is separate from the ipykernel package so we can avoid doing imports until\n",
      "/usr/local/lib/python3.7/dist-packages/ipykernel_launcher.py:4: UserWarning: This pattern has match groups. To actually get the groups, use str.extract.\n",
      "  after removing the cwd from sys.path.\n"
     ]
    }
   ],
   "source": [
    "df = df[['authors','recipients','id']].set_index('id').apply(lambda x: x.str.split('|').explode(ignore_index=True).str.strip())\n",
    "df = remove_author_recipient(df,names).reset_index(drop=True)"
   ]
  },
  {
   "cell_type": "code",
   "execution_count": 128,
   "metadata": {
    "executionInfo": {
     "elapsed": 15,
     "status": "ok",
     "timestamp": 1666103669006,
     "user": {
      "displayName": "T. Hoekstra",
      "userId": "15583416116369470687"
     },
     "user_tz": -120
    },
    "id": "B1ryz4nCahG1"
   },
   "outputs": [],
   "source": [
    "def edgelist_gen(df):\n",
    "  edgelist = df[['authors','recipients']]\n",
    "  edgelist['Weight'] = edgelist.groupby(['authors', 'recipients'])['authors'].transform('size')\n",
    "  edgelist = edgelist.rename(columns={\"authors\":\"Source\"}).rename(columns={\"recipients\":\"Target\"})\n",
    "  return edgelist\n",
    "\n",
    "def nxgraphing (edgelist):  \n",
    "  G = nx.from_pandas_edgelist(edgelist, source='Source',target='Target', edge_attr='Weight', create_using=nx.DiGraph())\n",
    "  #remove = [edge for edge, degree in G.degree() if degree < 2] #here we specify that we only want nodes with at least 2 degrees in our graph\n",
    "  #G.remove_nodes_from(remove)\n",
    "  return G"
   ]
  },
  {
   "cell_type": "code",
   "execution_count": 129,
   "metadata": {
    "colab": {
     "base_uri": "https://localhost:8080/"
    },
    "executionInfo": {
     "elapsed": 14,
     "status": "ok",
     "timestamp": 1666103669007,
     "user": {
      "displayName": "T. Hoekstra",
      "userId": "15583416116369470687"
     },
     "user_tz": -120
    },
    "id": "ZojZBWt2ail1",
    "outputId": "656a54c9-8d8b-453f-92d8-c8f9bbb8dcca"
   },
   "outputs": [
    {
     "name": "stdout",
     "output_type": "stream",
     "text": [
      "DiGraph with 4895 nodes and 14482 edges\n"
     ]
    }
   ],
   "source": [
    "G = nxgraphing(edgelist_gen(df))\n",
    "print(nx.info(G))"
   ]
  },
  {
   "cell_type": "code",
   "execution_count": 130,
   "metadata": {
    "executionInfo": {
     "elapsed": 11,
     "status": "ok",
     "timestamp": 1666103669007,
     "user": {
      "displayName": "T. Hoekstra",
      "userId": "15583416116369470687"
     },
     "user_tz": -120
    },
    "id": "yqsMQrUeakDt"
   },
   "outputs": [],
   "source": [
    "df_edge = nx.to_pandas_edgelist(G, source='Source',target='Target')\n",
    "df_edge.to_csv('/content/drive/Shareddrives/Letters of the Revolution Project/Repo: Revolutionary War/Data/Network data/Digraph/Input/edges.csv', sep=';', index=False)\n",
    "\n",
    "df_nodes=pd.DataFrame(np.unique(df_edge[['Source', 'Target']].astype(str).values))\n",
    "df_nodes.to_csv('/content/drive/Shareddrives/Letters of the Revolution Project/Repo: Revolutionary War/Data/Network data/Digraph/Input/nodes.csv', sep=';', header=['Node'], index_label=['Id'])"
   ]
  }
 ],
 "metadata": {
  "colab": {
   "authorship_tag": "ABX9TyOgUDtXF/kg3fC2npwcbaeK",
   "provenance": []
  },
  "kernelspec": {
   "display_name": "Python 3",
   "language": "python",
   "name": "python3"
  },
  "language_info": {
   "codemirror_mode": {
    "name": "ipython",
    "version": 3
   },
   "file_extension": ".py",
   "mimetype": "text/x-python",
   "name": "python",
   "nbconvert_exporter": "python",
   "pygments_lexer": "ipython3",
   "version": "3.8.8"
  }
 },
 "nbformat": 4,
 "nbformat_minor": 1
}
