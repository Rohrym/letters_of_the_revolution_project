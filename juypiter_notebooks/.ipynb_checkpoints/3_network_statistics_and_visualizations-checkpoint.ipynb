{
 "cells": [
  {
   "cell_type": "code",
   "execution_count": 1,
   "metadata": {
    "colab": {
     "base_uri": "https://localhost:8080/"
    },
    "executionInfo": {
     "elapsed": 28437,
     "status": "ok",
     "timestamp": 1665492300927,
     "user": {
      "displayName": "T. Hoekstra",
      "userId": "15583416116369470687"
     },
     "user_tz": -120
    },
    "id": "Uf94mzaojM8N",
    "outputId": "dfac05cf-715d-4dce-f331-d173ffe72d93"
   },
   "outputs": [
    {
     "name": "stdout",
     "output_type": "stream",
     "text": [
      "Mounted at /content/drive\n"
     ]
    }
   ],
   "source": [
    "from google.colab import drive\n",
    "drive.mount('/content/drive')"
   ]
  },
  {
   "cell_type": "code",
   "execution_count": 2,
   "metadata": {
    "executionInfo": {
     "elapsed": 1270,
     "status": "ok",
     "timestamp": 1665492302184,
     "user": {
      "displayName": "T. Hoekstra",
      "userId": "15583416116369470687"
     },
     "user_tz": -120
    },
    "id": "Um50WVkMjki3"
   },
   "outputs": [],
   "source": [
    "import pandas as pd\n",
    "import seaborn as sns\n",
    "import matplotlib.pyplot as plt"
   ]
  },
  {
   "cell_type": "code",
   "execution_count": 3,
   "metadata": {
    "executionInfo": {
     "elapsed": 4282,
     "status": "ok",
     "timestamp": 1665492306458,
     "user": {
      "displayName": "T. Hoekstra",
      "userId": "15583416116369470687"
     },
     "user_tz": -120
    },
    "id": "arDApxVNjl6E"
   },
   "outputs": [],
   "source": [
    "nodelist = pd.read_csv('/content/drive/Shareddrives/Letters of the Revolution Project/Repo: Revolutionary War/Data/Network data/Digraph/Output/nodes_gephi - People.csv')\n",
    "nodestats = pd.read_csv('/content/drive/Shareddrives/Letters of the Revolution Project/Repo: Revolutionary War/Data/Network data/Digraph/Output/nodes_gephi - Network Statistics.csv')\n",
    "edgelist = pd.read_csv('/content/drive/Shareddrives/Letters of the Revolution Project/Repo: Revolutionary War/Data/Network data/Digraph/Output/edges_gephi.csv')"
   ]
  },
  {
   "cell_type": "code",
   "execution_count": 4,
   "metadata": {
    "colab": {
     "base_uri": "https://localhost:8080/"
    },
    "executionInfo": {
     "elapsed": 67,
     "status": "ok",
     "timestamp": 1665492306460,
     "user": {
      "displayName": "T. Hoekstra",
      "userId": "15583416116369470687"
     },
     "user_tz": -120
    },
    "id": "BuQjpxE8n3ge",
    "outputId": "c2af76b0-0517-48bc-ac09-769d0e10947f"
   },
   "outputs": [
    {
     "name": "stdout",
     "output_type": "stream",
     "text": [
      "<class 'pandas.core.frame.DataFrame'>\n",
      "RangeIndex: 243 entries, 0 to 242\n",
      "Data columns (total 10 columns):\n",
      " #   Column             Non-Null Count  Dtype  \n",
      "---  ------             --------------  -----  \n",
      " 0   Id                 243 non-null    int64  \n",
      " 1   Names              243 non-null    object \n",
      " 2   Nationality/State  243 non-null    object \n",
      " 3   Position held      204 non-null    object \n",
      " 4   Occupation         222 non-null    object \n",
      " 5   Year born          220 non-null    float64\n",
      " 6   Year deceased      220 non-null    float64\n",
      " 7   Gender             243 non-null    object \n",
      " 8   Other memberships  84 non-null     object \n",
      " 9   Citations          228 non-null    object \n",
      "dtypes: float64(2), int64(1), object(7)\n",
      "memory usage: 19.1+ KB\n"
     ]
    }
   ],
   "source": [
    "nodelist.info()"
   ]
  },
  {
   "cell_type": "code",
   "execution_count": 5,
   "metadata": {
    "colab": {
     "base_uri": "https://localhost:8080/"
    },
    "executionInfo": {
     "elapsed": 56,
     "status": "ok",
     "timestamp": 1665492306461,
     "user": {
      "displayName": "T. Hoekstra",
      "userId": "15583416116369470687"
     },
     "user_tz": -120
    },
    "id": "X4XZAodI142t",
    "outputId": "a9bbf25b-80c3-4309-9fdf-29152a863a15"
   },
   "outputs": [
    {
     "data": {
      "text/plain": [
       "17085"
      ]
     },
     "execution_count": 5,
     "metadata": {},
     "output_type": "execute_result"
    }
   ],
   "source": [
    "edgelist['Weight'].sum()"
   ]
  },
  {
   "cell_type": "code",
   "execution_count": 6,
   "metadata": {
    "colab": {
     "base_uri": "https://localhost:8080/"
    },
    "executionInfo": {
     "elapsed": 46,
     "status": "ok",
     "timestamp": 1665492306464,
     "user": {
      "displayName": "T. Hoekstra",
      "userId": "15583416116369470687"
     },
     "user_tz": -120
    },
    "id": "QfQyezDLWd3d",
    "outputId": "c9c047fc-f065-4a42-ccde-c24dd29891f9"
   },
   "outputs": [
    {
     "data": {
      "text/plain": [
       "M    222\n",
       "O     15\n",
       "V      6\n",
       "Name: Gender, dtype: int64"
      ]
     },
     "execution_count": 6,
     "metadata": {},
     "output_type": "execute_result"
    }
   ],
   "source": [
    "nodelist['Gender'].value_counts()"
   ]
  },
  {
   "cell_type": "code",
   "execution_count": 7,
   "metadata": {
    "colab": {
     "base_uri": "https://localhost:8080/",
     "height": 549
    },
    "executionInfo": {
     "elapsed": 844,
     "status": "ok",
     "timestamp": 1665492307268,
     "user": {
      "displayName": "T. Hoekstra",
      "userId": "15583416116369470687"
     },
     "user_tz": -120
    },
    "id": "R2E0z2MhXCCq",
    "outputId": "8b7b33a0-f659-4b29-9357-8417498080ba"
   },
   "outputs": [
    {
     "name": "stdout",
     "output_type": "stream",
     "text": [
      "count    220\n",
      "mean      36\n",
      "std       10\n",
      "min        8\n",
      "25%       29\n",
      "50%       36\n",
      "75%       44\n",
      "max       69\n",
      "Name: Year born, dtype: int64\n",
      "<seaborn.axisgrid.FacetGrid object at 0x7fe04cb26b10>\n"
     ]
    },
    {
     "data": {
      "image/png": "[encoded data removed]",
      "text/plain": [
       "<Figure size 360x360 with 1 Axes>"
      ]
     },
     "metadata": {
      "needs_background": "light"
     },
     "output_type": "display_data"
    }
   ],
   "source": [
    "yearborn = nodelist['Year born'].dropna().astype('int')\n",
    "yearborn['age'] = 1775 - yearborn\n",
    "print(yearborn['age'].describe().astype('int'))\n",
    "print(sns.displot(yearborn['age'].astype('int'),kde=True))"
   ]
  },
  {
   "cell_type": "code",
   "execution_count": 8,
   "metadata": {
    "colab": {
     "base_uri": "https://localhost:8080/"
    },
    "executionInfo": {
     "elapsed": 67,
     "status": "ok",
     "timestamp": 1665492307269,
     "user": {
      "displayName": "T. Hoekstra",
      "userId": "15583416116369470687"
     },
     "user_tz": -120
    },
    "id": "weopoac8PFN7",
    "outputId": "439267d9-6431-4120-91fe-fe7295477d1e"
   },
   "outputs": [
    {
     "data": {
      "text/plain": [
       "0.6558704453441295"
      ]
     },
     "execution_count": 8,
     "metadata": {},
     "output_type": "execute_result"
    }
   ],
   "source": [
    "top_5_nationalities=['Virginia','Pennsylvania','Massachusetts','France','New York']\n",
    "nationality = nodelist['Nationality/State'].str.split(';').explode().str.strip().value_counts().reset_index()\n",
    "nationality['Nationality/State'].loc[nationality['index'].isin(top_5_nationalities)].sum()/nationality['Nationality/State'].sum()"
   ]
  },
  {
   "cell_type": "code",
   "execution_count": 9,
   "metadata": {
    "colab": {
     "base_uri": "https://localhost:8080/"
    },
    "executionInfo": {
     "elapsed": 66,
     "status": "ok",
     "timestamp": 1665492307272,
     "user": {
      "displayName": "T. Hoekstra",
      "userId": "15583416116369470687"
     },
     "user_tz": -120
    },
    "id": "a7SVDK7LQsit",
    "outputId": "9238e402-c83e-45f5-fde5-cdb070076beb"
   },
   "outputs": [
    {
     "data": {
      "text/plain": [
       "0.7935222672064778"
      ]
     },
     "execution_count": 9,
     "metadata": {},
     "output_type": "execute_result"
    }
   ],
   "source": [
    "states = ['Connecticut','Massachusetts','New Hampshire','Pennsylvania','Maryland','Delaware',\n",
    "         'Rhode Island','New York','New Jersey','Virginia','North Carolina','South Carolina','Georgia','United States']\n",
    "nationality['Nationality/State'].loc[nationality['index'].isin(states)].sum()/nationality['Nationality/State'].sum()"
   ]
  },
  {
   "cell_type": "code",
   "execution_count": 10,
   "metadata": {
    "colab": {
     "base_uri": "https://localhost:8080/",
     "height": 348
    },
    "executionInfo": {
     "elapsed": 50,
     "status": "ok",
     "timestamp": 1665492307273,
     "user": {
      "displayName": "T. Hoekstra",
      "userId": "15583416116369470687"
     },
     "user_tz": -120
    },
    "id": "4LUpMca4nkmc",
    "outputId": "fad145d6-6283-4ee4-bf7d-fc3a8e76e421"
   },
   "outputs": [
    {
     "data": {
      "image/png": "[encoded data removed]",
      "text/plain": [
       "<Figure size 432x288 with 1 Axes>"
      ]
     },
     "metadata": {
      "needs_background": "light"
     },
     "output_type": "display_data"
    }
   ],
   "source": [
    "g = sns.barplot(data= nationality, x='index',y='Nationality/State')\n",
    "g.set_xticklabels(labels = nationality['index'], rotation=90)\n",
    "plt.show()"
   ]
  },
  {
   "cell_type": "code",
   "execution_count": 11,
   "metadata": {
    "executionInfo": {
     "elapsed": 416,
     "status": "ok",
     "timestamp": 1665492307643,
     "user": {
      "displayName": "T. Hoekstra",
      "userId": "15583416116369470687"
     },
     "user_tz": -120
    },
    "id": "MQwNrN3jqEwN"
   },
   "outputs": [],
   "source": [
    "place_edges = pd.merge(left=edgelist[['Weight','Source','Target']], right=nodelist['Nationality/State'], left_on='Source', right_on=nodelist['Names'])\n",
    "place_edges.rename(columns = {'Nationality/State':'Source_Nationality'}, inplace = True)\n",
    "place_edges = pd.merge(left=place_edges[['Weight','Source','Target','Source_Nationality']], right=nodelist['Nationality/State'], left_on='Target', right_on=nodelist['Names'])\n",
    "place_edges.rename(columns = {'Nationality/State':'Target_Nationality'}, inplace = True)\n",
    "place_edges\n",
    "place_edges.to_csv('/content/drive/Shareddrives/Letters of the Revolution Project/Repo: Revolutionary War/Data/Location data/Location_edges.csv')"
   ]
  },
  {
   "cell_type": "code",
   "execution_count": 12,
   "metadata": {
    "executionInfo": {
     "elapsed": 107,
     "status": "ok",
     "timestamp": 1665492307645,
     "user": {
      "displayName": "T. Hoekstra",
      "userId": "15583416116369470687"
     },
     "user_tz": -120
    },
    "id": "lYgzvp6FXSBJ"
   },
   "outputs": [],
   "source": [
    "def state_factor(edgelist, nodelist, names, states):\n",
    "  state_factor_auth = edgelist.loc[edgelist['Source'] == names]\n",
    "  state_factor_auth = pd.merge(state_factor_auth[['Source','Target','Weight']],nodelist,left_on='Target',right_on='Names')\n",
    "  state_factor_authored = state_factor_auth[['Nationality/State','Weight']].set_index(['Weight']).apply(lambda x: x.str.split(';')).explode('Nationality/State').reset_index()\n",
    "  state_factor_authored = state_factor_authored.loc[state_factor_authored['Nationality/State'].isin(states)]\n",
    "  state_factor_authored = state_factor_authored['Weight'].sum()/state_factor_auth['Weight'].sum()*100\n",
    "  \n",
    "  state_factor_rec = edgelist.loc[edgelist['Target'] == names]\n",
    "  state_factor_rec = pd.merge(state_factor_rec[['Source','Target','Weight']],nodelist,left_on='Source',right_on='Names')\n",
    "  state_factor_recip = state_factor_rec[['Nationality/State','Weight']].set_index(['Weight']).apply(lambda x: x.str.split(';')).explode('Nationality/State').reset_index()\n",
    "  state_factor_recip = state_factor_recip.loc[state_factor_recip['Nationality/State'].isin(states)]\n",
    "  state_factor_recip = state_factor_recip['Weight'].sum()/state_factor_rec['Weight'].sum()*100\n",
    "\n",
    "  state_factor = (state_factor_authored+state_factor_recip)/2\n",
    "  return state_factor_authored,state_factor_recip, state_factor"
   ]
  },
  {
   "cell_type": "code",
   "execution_count": 13,
   "metadata": {
    "colab": {
     "base_uri": "https://localhost:8080/"
    },
    "executionInfo": {
     "elapsed": 104,
     "status": "ok",
     "timestamp": 1665492307646,
     "user": {
      "displayName": "T. Hoekstra",
      "userId": "15583416116369470687"
     },
     "user_tz": -120
    },
    "id": "vfm5EVRYYOsK",
    "outputId": "ea0c8386-ebe4-40da-9230-b84d30c411cd"
   },
   "outputs": [
    {
     "name": "stdout",
     "output_type": "stream",
     "text": [
      "Percentage of letters to and from people associated with Connecticut, Massachusetts, New Hampshire, Pennsylvania, Maryland, Delaware, Rhode Island, New York, New Jersey, Virginia, North Carolina, South Carolina, Georgia, United States: \n",
      "\n",
      "                        to   from  combined\n",
      "Madison, James       99.35  96.77     98.06\n",
      "Jay, John            97.35  97.52     97.43\n",
      "Hamilton, Alexander  91.43  96.00     93.71\n",
      "Jefferson, Thomas    96.48  86.83     91.66\n",
      "Washington, George   92.71  89.53     91.12\n",
      "Adams, John          91.80  73.69     82.75\n",
      "Franklin, Benjamin   80.76  73.30     77.03\n"
     ]
    }
   ],
   "source": [
    "text=\", \"\n",
    "dicteroo = {}\n",
    "founders = ['Washington, George', 'Adams, John', 'Jefferson, Thomas', \n",
    "              'Madison, James', 'Hamilton, Alexander', 'Franklin, Benjamin','Jay, John']\n",
    "states = ['Connecticut','Massachusetts','New Hampshire','Pennsylvania','Maryland','Delaware',\n",
    "         'Rhode Island','New York','New Jersey','Virginia','North Carolina','South Carolina','Georgia','United States']\n",
    "\n",
    "for names in founders:\n",
    "  dicteroo[names] = state_factor(edgelist, nodelist,names, states)\n",
    "df = pd.DataFrame(dicteroo).T\n",
    "df.columns = ['to', 'from', 'combined']\n",
    "\n",
    "print(f'Percentage of letters to and from people associated with {text.join(states)}: \\n')\n",
    "print(df.round(decimals=2).sort_values(by=['combined'], ascending=False))"
   ]
  },
  {
   "cell_type": "code",
   "execution_count": 14,
   "metadata": {
    "executionInfo": {
     "elapsed": 95,
     "status": "ok",
     "timestamp": 1665492307648,
     "user": {
      "displayName": "T. Hoekstra",
      "userId": "15583416116369470687"
     },
     "user_tz": -120
    },
    "id": "pCHDiIL_I711"
   },
   "outputs": [],
   "source": [
    "def occupation_factor(edgelist, nodelist, names, occupation):\n",
    "  occupation_factor_auth = edgelist.loc[edgelist['Source'] == names]\n",
    "  occupation_factor_auth = pd.merge(occupation_factor_auth[['Source','Target','Weight']],nodelist,left_on='Target',right_on='Names')\n",
    "  occupation_factor_authored = occupation_factor_auth[['Occupation','Weight']].set_index(['Weight']).apply(lambda x: x.str.split(';')).explode('Occupation').reset_index()\n",
    "  occupation_factor_authored = occupation_factor_authored.loc[occupation_factor_authored['Occupation'].isin(occupation)]\n",
    "  occupation_factor_authored = occupation_factor_authored['Weight'].sum()/occupation_factor_auth['Weight'].sum()*100\n",
    "  \n",
    "  occupation_factor_rec = edgelist.loc[edgelist['Target'] == names]\n",
    "  occupation_factor_rec = pd.merge(occupation_factor_rec[['Source','Target','Weight']],nodelist,left_on='Source',right_on='Names')\n",
    "  occupation_factor_recip = occupation_factor_rec[['Occupation','Weight']].set_index(['Weight']).apply(lambda x: x.str.split(';')).explode('Occupation').reset_index()\n",
    "  occupation_factor_recip = occupation_factor_recip.loc[occupation_factor_recip['Occupation'].isin(occupation)]\n",
    "  occupation_factor_recip = occupation_factor_recip['Weight'].sum()/occupation_factor_rec['Weight'].sum()*100\n",
    "\n",
    "  occupation_factor = (occupation_factor_authored+occupation_factor_recip)/2\n",
    "  return occupation_factor_authored,occupation_factor_recip, occupation_factor"
   ]
  },
  {
   "cell_type": "code",
   "execution_count": 15,
   "metadata": {
    "colab": {
     "base_uri": "https://localhost:8080/"
    },
    "executionInfo": {
     "elapsed": 512,
     "status": "ok",
     "timestamp": 1665492308066,
     "user": {
      "displayName": "T. Hoekstra",
      "userId": "15583416116369470687"
     },
     "user_tz": -120
    },
    "id": "4gUX5NvvI7-_",
    "outputId": "11e9e17d-ae11-462a-927d-4f8d8da8319c"
   },
   "outputs": [
    {
     "name": "stdout",
     "output_type": "stream",
     "text": [
      "Percentage of letters to and from people who were Statesman: \n",
      "\n",
      "                        to   from  combined\n",
      "Madison, James        7.84  82.26     45.05\n",
      "Adams, John          26.53  19.40     22.96\n",
      "Jay, John            39.07   4.97     22.02\n",
      "Washington, George   22.74  14.35     18.55\n",
      "Hamilton, Alexander  14.76  22.00     18.38\n",
      "Franklin, Benjamin    8.30   8.14      8.22\n",
      "Jefferson, Thomas     3.79   6.58      5.19\n"
     ]
    }
   ],
   "source": [
    "text=\", \"\n",
    "dicteroo = {}\n",
    "founders = ['Washington, George', 'Adams, John', 'Jefferson, Thomas', \n",
    "              'Madison, James', 'Hamilton, Alexander', 'Franklin, Benjamin','Jay, John']\n",
    "occupations = ['Statesman']\n",
    "\n",
    "for names in founders:\n",
    "  dicteroo[names] = occupation_factor(edgelist, nodelist,names,occupations)\n",
    "df = pd.DataFrame(dicteroo).T\n",
    "df.columns = ['to', 'from', 'combined']\n",
    "\n",
    "print(f'Percentage of letters to and from people who were {text.join(occupations)}: \\n')\n",
    "print(df.round(decimals=2).sort_values(by=['combined'], ascending=False))"
   ]
  },
  {
   "cell_type": "code",
   "execution_count": 16,
   "metadata": {
    "colab": {
     "base_uri": "https://localhost:8080/"
    },
    "executionInfo": {
     "elapsed": 78,
     "status": "ok",
     "timestamp": 1665492308076,
     "user": {
      "displayName": "T. Hoekstra",
      "userId": "15583416116369470687"
     },
     "user_tz": -120
    },
    "id": "cQC3hhCmEodC",
    "outputId": "c8769220-bded-4093-871d-cae17f3dd919"
   },
   "outputs": [
    {
     "data": {
      "text/plain": [
       "1879"
      ]
     },
     "execution_count": 16,
     "metadata": {},
     "output_type": "execute_result"
    }
   ],
   "source": [
    "Diplomatic_correspondence = nodelist[['Occupation', 'Names']].set_index('Names').apply(lambda x: x.str.split(';').explode().str.strip())\n",
    "Diplomatic_correspondence = Diplomatic_correspondence.loc[Diplomatic_correspondence['Occupation'].isin(['Diplomat','Agent'])].reset_index()\n",
    "Diplomatic_correspondence = pd.merge(Diplomatic_correspondence,nodelist[['Names','Nationality/State']])\n",
    "Diplomatic_correspondence = edgelist.loc[(edgelist['Source'].isin(Diplomatic_correspondence['Names'])) & ((edgelist['Target'].isin(Diplomatic_correspondence['Names'])))]\n",
    "Diplomatic_correspondence['Weight'].sum()"
   ]
  },
  {
   "cell_type": "code",
   "execution_count": 17,
   "metadata": {
    "executionInfo": {
     "elapsed": 80,
     "status": "ok",
     "timestamp": 1665492308084,
     "user": {
      "displayName": "T. Hoekstra",
      "userId": "15583416116369470687"
     },
     "user_tz": -120
    },
    "id": "krqalqyvRkBd"
   },
   "outputs": [],
   "source": [
    "def convertTuple(tup):\n",
    "    str = ''.join(tup)\n",
    "    return str"
   ]
  },
  {
   "cell_type": "code",
   "execution_count": 18,
   "metadata": {
    "colab": {
     "base_uri": "https://localhost:8080/",
     "height": 297
    },
    "executionInfo": {
     "elapsed": 86,
     "status": "ok",
     "timestamp": 1665492308092,
     "user": {
      "displayName": "T. Hoekstra",
      "userId": "15583416116369470687"
     },
     "user_tz": -120
    },
    "id": "18gJUSl2-wFl",
    "outputId": "806c1ce1-bfd4-47da-ea57-10ce4c1c7e5d"
   },
   "outputs": [
    {
     "data": {
      "text/plain": [
       "<matplotlib.axes._subplots.AxesSubplot at 0x7fe0492a0890>"
      ]
     },
     "execution_count": 18,
     "metadata": {},
     "output_type": "execute_result"
    },
    {
     "data": {
      "image/png": "[encoded data removed]",
      "text/plain": [
       "<Figure size 432x288 with 1 Axes>"
      ]
     },
     "metadata": {
      "needs_background": "light"
     },
     "output_type": "display_data"
    }
   ],
   "source": [
    "occupations = nodelist[['Occupation', 'Id']].set_index('Id').apply(lambda x: x.str.split(';').explode().astype('string').str.strip())\n",
    "main_occupations = occupations.loc[occupations['Occupation'].isin(['Military','Politician','Diplomat','Statesman','Agent','Militia'])].value_counts()\n",
    "other_occupation = {'Other':occupations.loc[~occupations['Occupation'].isin(['Military','Politician','Diplomat','Statesman','Agent','Militia'])].value_counts().sum()}\n",
    "main_occupations = main_occupations.append(pd.Series(other_occupation)).reset_index()\n",
    "main_occupations['index'] = main_occupations['index'].apply(convertTuple)\n",
    "sns.barplot(data=main_occupations, x='index',y=0)"
   ]
  },
  {
   "cell_type": "code",
   "execution_count": 19,
   "metadata": {
    "colab": {
     "base_uri": "https://localhost:8080/",
     "height": 348
    },
    "executionInfo": {
     "elapsed": 1025,
     "status": "ok",
     "timestamp": 1665492309047,
     "user": {
      "displayName": "T. Hoekstra",
      "userId": "15583416116369470687"
     },
     "user_tz": -120
    },
    "id": "mGNZJP_GTz8g",
    "outputId": "263729b9-b2df-458a-c6cc-79d81a436487"
   },
   "outputs": [
    {
     "data": {
      "image/png": "[encoded data removed]",
      "text/plain": [
       "<Figure size 432x288 with 1 Axes>"
      ]
     },
     "metadata": {
      "needs_background": "light"
     },
     "output_type": "display_data"
    }
   ],
   "source": [
    "other_occupations = occupations.loc[~occupations['Occupation'].isin(['Military','Politician','Diplomat','Statesman','Agent','Militia'])].value_counts().reset_index()\n",
    "g = sns.barplot(data= other_occupations, x='Occupation', y=0)\n",
    "g.set_xticklabels(labels = other_occupations['Occupation'], rotation=90)\n",
    "plt.show()"
   ]
  },
  {
   "cell_type": "code",
   "execution_count": 20,
   "metadata": {
    "colab": {
     "base_uri": "https://localhost:8080/",
     "height": 283
    },
    "executionInfo": {
     "elapsed": 26,
     "status": "ok",
     "timestamp": 1665492309048,
     "user": {
      "displayName": "T. Hoekstra",
      "userId": "15583416116369470687"
     },
     "user_tz": -120
    },
    "id": "bZJMyKQaAYWk",
    "outputId": "8f6da07d-c1e5-4c6e-fced-3e44b9ea8105"
   },
   "outputs": [
    {
     "data": {
      "text/plain": [
       "<matplotlib.axes._subplots.AxesSubplot at 0x7fe04901ccd0>"
      ]
     },
     "execution_count": 20,
     "metadata": {},
     "output_type": "execute_result"
    },
    {
     "data": {
      "image/png": "[encoded data removed]",
      "text/plain": [
       "<Figure size 432x288 with 1 Axes>"
      ]
     },
     "metadata": {
      "needs_background": "light"
     },
     "output_type": "display_data"
    }
   ],
   "source": [
    "position = nodelist[['Position held', 'Id']].set_index('Id').apply(lambda x: x.str.split(';').explode().str.strip())\n",
    "position.value_counts().nlargest(15).sort_values(ascending=True).plot.barh()"
   ]
  },
  {
   "cell_type": "code",
   "execution_count": 21,
   "metadata": {
    "colab": {
     "base_uri": "https://localhost:8080/"
    },
    "executionInfo": {
     "elapsed": 472,
     "status": "ok",
     "timestamp": 1665492309507,
     "user": {
      "displayName": "T. Hoekstra",
      "userId": "15583416116369470687"
     },
     "user_tz": -120
    },
    "id": "6kXsk0dMBWAs",
    "outputId": "d0fb7275-2660-463c-f0a1-0d260cd53f50"
   },
   "outputs": [
    {
     "name": "stderr",
     "output_type": "stream",
     "text": [
      "/usr/local/lib/python3.7/dist-packages/pandas/core/generic.py:4150: PerformanceWarning: dropping on a non-lexsorted multi-index without a level parameter may impact performance.\n",
      "  obj = obj._drop_axis(labels, axis, level=level, errors=errors)\n"
     ]
    },
    {
     "data": {
      "text/plain": [
       "Other memberships                    \n",
       "Sons of Liberty                          10\n",
       "Freemasons                               13\n",
       "American Academy of Arts and Sciences    18\n",
       "Society of the Cincinnati                19\n",
       "American Philosophical Society           27\n",
       "dtype: int64"
      ]
     },
     "execution_count": 21,
     "metadata": {},
     "output_type": "execute_result"
    }
   ],
   "source": [
    "memberships = nodelist[['Other memberships', 'Id']].set_index('Id').apply(lambda x: x.str.split(';').explode().str.strip())\n",
    "memberships.value_counts().drop('').sort_values(ascending=True)#.plot.barh()"
   ]
  },
  {
   "cell_type": "code",
   "execution_count": 22,
   "metadata": {
    "colab": {
     "base_uri": "https://localhost:8080/"
    },
    "executionInfo": {
     "elapsed": 28,
     "status": "ok",
     "timestamp": 1665492309509,
     "user": {
      "displayName": "T. Hoekstra",
      "userId": "15583416116369470687"
     },
     "user_tz": -120
    },
    "id": "di8X9Mr5iox3",
    "outputId": "a71dcd8e-a599-4e4b-e23a-305f919e676a"
   },
   "outputs": [
    {
     "data": {
      "text/plain": [
       "Agent         23\n",
       "Politician    22\n",
       "Military      16\n",
       "Diplomat      14\n",
       "Statesman      5\n",
       "Militia        3\n",
       "Name: Occupation, dtype: int64"
      ]
     },
     "execution_count": 22,
     "metadata": {},
     "output_type": "execute_result"
    }
   ],
   "source": [
    "modclass_1 = nodestats.loc[nodestats['modularity_class'] == 1]\n",
    "modclass_1 = pd.merge(modclass_1[['Label','Id']],nodelist,left_on='Label',right_on='Names')\n",
    "modclass_1_occ = modclass_1['Occupation'].str.split(';').explode().str.strip()\n",
    "modclass_1_occ.loc[modclass_1_occ.isin(['Military','Politician','Diplomat','Statesman','Agent','Militia'])].value_counts()"
   ]
  },
  {
   "cell_type": "code",
   "execution_count": 23,
   "metadata": {
    "colab": {
     "base_uri": "https://localhost:8080/"
    },
    "executionInfo": {
     "elapsed": 27,
     "status": "ok",
     "timestamp": 1665492309510,
     "user": {
      "displayName": "T. Hoekstra",
      "userId": "15583416116369470687"
     },
     "user_tz": -120
    },
    "id": "6-cq166Sm5NE",
    "outputId": "6b64cb28-15a5-491f-d5f6-202c075b7c6a"
   },
   "outputs": [
    {
     "data": {
      "text/plain": [
       "Pennsylvania      26\n",
       "Virginia          22\n",
       "New York          21\n",
       "France            14\n",
       "Connecticut       12\n",
       "New Jersey        10\n",
       "Massachusetts      9\n",
       "Maryland           8\n",
       "Rhode Island       4\n",
       "United States      3\n",
       "Great Britain      3\n",
       "North Carolina     2\n",
       "South Carolina     2\n",
       "New Hampshire      2\n",
       "Delaware           2\n",
       "Quebec             1\n",
       "Tuscany            1\n",
       "Vermont            1\n",
       "Georgia            1\n",
       "Prussia            1\n",
       "Cuba               1\n",
       "Name: Nationality/State, dtype: int64"
      ]
     },
     "execution_count": 23,
     "metadata": {},
     "output_type": "execute_result"
    }
   ],
   "source": [
    "modclass_1 = nodestats.loc[nodestats['modularity_class'] == 0]\n",
    "modclass_1 = pd.merge(modclass_1[['Label','Id']],nodelist,left_on='Label',right_on='Names')\n",
    "modclass_1_nat = modclass_1['Nationality/State'].str.split(';').explode().str.strip()\n",
    "modclass_1_nat.value_counts()"
   ]
  },
  {
   "cell_type": "markdown",
   "metadata": {
    "id": "g-ggRORbXtVz"
   },
   "source": [
    "## Network statistics"
   ]
  },
  {
   "cell_type": "markdown",
   "metadata": {
    "id": "M-FhYpjGcYVv"
   },
   "source": [
    "### Edge data"
   ]
  },
  {
   "cell_type": "code",
   "execution_count": 24,
   "metadata": {
    "colab": {
     "base_uri": "https://localhost:8080/"
    },
    "executionInfo": {
     "elapsed": 18,
     "status": "ok",
     "timestamp": 1665492309511,
     "user": {
      "displayName": "T. Hoekstra",
      "userId": "15583416116369470687"
     },
     "user_tz": -120
    },
    "id": "n1ZneSNTfph3",
    "outputId": "b7718565-eb17-4c5d-dbcd-49bf5f4b8977"
   },
   "outputs": [
    {
     "data": {
      "text/plain": [
       "1796"
      ]
     },
     "execution_count": 24,
     "metadata": {},
     "output_type": "execute_result"
    }
   ],
   "source": [
    "len(edgelist)"
   ]
  },
  {
   "cell_type": "code",
   "execution_count": 25,
   "metadata": {
    "colab": {
     "base_uri": "https://localhost:8080/"
    },
    "executionInfo": {
     "elapsed": 15,
     "status": "ok",
     "timestamp": 1665492309512,
     "user": {
      "displayName": "T. Hoekstra",
      "userId": "15583416116369470687"
     },
     "user_tz": -120
    },
    "id": "CabBDEx0cAe3",
    "outputId": "19fdafd4-9c57-4fd2-e665-31373f1f877d"
   },
   "outputs": [
    {
     "data": {
      "text/plain": [
       "17085"
      ]
     },
     "execution_count": 25,
     "metadata": {},
     "output_type": "execute_result"
    }
   ],
   "source": [
    "edgelist['Weight'].sum()"
   ]
  },
  {
   "cell_type": "code",
   "execution_count": 26,
   "metadata": {
    "colab": {
     "base_uri": "https://localhost:8080/",
     "height": 0
    },
    "executionInfo": {
     "elapsed": 1470,
     "status": "ok",
     "timestamp": 1665492310968,
     "user": {
      "displayName": "T. Hoekstra",
      "userId": "15583416116369470687"
     },
     "user_tz": -120
    },
    "id": "V3XwKBfAb22Y",
    "outputId": "06e34ab6-dbea-4117-e641-0c5133678876"
   },
   "outputs": [
    {
     "data": {
      "text/plain": [
       "<seaborn.axisgrid.FacetGrid at 0x7fe048ecef50>"
      ]
     },
     "execution_count": 26,
     "metadata": {},
     "output_type": "execute_result"
    },
    {
     "data": {
      "image/png": "[encoded data removed]",
      "text/plain": [
       "<Figure size 360x360 with 1 Axes>"
      ]
     },
     "metadata": {
      "needs_background": "light"
     },
     "output_type": "display_data"
    }
   ],
   "source": [
    "sns.displot(edgelist['Weight'], kde=True)"
   ]
  },
  {
   "cell_type": "markdown",
   "metadata": {
    "id": "fQqrrDI6cdAv"
   },
   "source": [
    "### Node data"
   ]
  },
  {
   "cell_type": "code",
   "execution_count": 27,
   "metadata": {
    "colab": {
     "base_uri": "https://localhost:8080/",
     "height": 0
    },
    "executionInfo": {
     "elapsed": 24,
     "status": "ok",
     "timestamp": 1665492310970,
     "user": {
      "displayName": "T. Hoekstra",
      "userId": "15583416116369470687"
     },
     "user_tz": -120
    },
    "id": "HdEkHsaDcOUv",
    "outputId": "b36e88bf-bbb5-4c2c-b567-5d095573d5e0"
   },
   "outputs": [
    {
     "data": {
      "text/html": [
       "\n",
       "  <div id=\"df-d07db637-0507-4292-a0c3-aada3e765c75\">\n",
       "    <div class=\"colab-df-container\">\n",
       "      <div>\n",
       "<style scoped>\n",
       "    .dataframe tbody tr th:only-of-type {\n",
       "        vertical-align: middle;\n",
       "    }\n",
       "\n",
       "    .dataframe tbody tr th {\n",
       "        vertical-align: top;\n",
       "    }\n",
       "\n",
       "    .dataframe thead th {\n",
       "        text-align: right;\n",
       "    }\n",
       "</style>\n",
       "<table border=\"1\" class=\"dataframe\">\n",
       "  <thead>\n",
       "    <tr style=\"text-align: right;\">\n",
       "      <th></th>\n",
       "      <th>Id</th>\n",
       "      <th>modularity_class</th>\n",
       "      <th>indegree</th>\n",
       "      <th>outdegree</th>\n",
       "      <th>Degree</th>\n",
       "      <th>weighted indegree</th>\n",
       "      <th>weighted outdegree</th>\n",
       "      <th>Weighted Degree</th>\n",
       "      <th>Eccentricity</th>\n",
       "      <th>closnesscentrality</th>\n",
       "      <th>harmonicclosnesscentrality</th>\n",
       "      <th>betweenesscentrality</th>\n",
       "      <th>Authority</th>\n",
       "      <th>Hub</th>\n",
       "      <th>stat_inf_class</th>\n",
       "      <th>clustering</th>\n",
       "      <th>eigencentrality</th>\n",
       "    </tr>\n",
       "  </thead>\n",
       "  <tbody>\n",
       "    <tr>\n",
       "      <th>count</th>\n",
       "      <td>243.00</td>\n",
       "      <td>244.00</td>\n",
       "      <td>244.00</td>\n",
       "      <td>244.00</td>\n",
       "      <td>244.00</td>\n",
       "      <td>244.00</td>\n",
       "      <td>244.00</td>\n",
       "      <td>244.00</td>\n",
       "      <td>244.00</td>\n",
       "      <td>244.00</td>\n",
       "      <td>244.00</td>\n",
       "      <td>244.00</td>\n",
       "      <td>244.00</td>\n",
       "      <td>244.00</td>\n",
       "      <td>244.00</td>\n",
       "      <td>244.00</td>\n",
       "      <td>244.00</td>\n",
       "    </tr>\n",
       "    <tr>\n",
       "      <th>mean</th>\n",
       "      <td>137.08</td>\n",
       "      <td>0.50</td>\n",
       "      <td>7.61</td>\n",
       "      <td>7.61</td>\n",
       "      <td>15.23</td>\n",
       "      <td>101.31</td>\n",
       "      <td>101.31</td>\n",
       "      <td>202.61</td>\n",
       "      <td>3.01</td>\n",
       "      <td>0.45</td>\n",
       "      <td>0.47</td>\n",
       "      <td>304.30</td>\n",
       "      <td>0.04</td>\n",
       "      <td>0.04</td>\n",
       "      <td>0.66</td>\n",
       "      <td>0.80</td>\n",
       "      <td>0.10</td>\n",
       "    </tr>\n",
       "    <tr>\n",
       "      <th>std</th>\n",
       "      <td>77.97</td>\n",
       "      <td>0.64</td>\n",
       "      <td>15.55</td>\n",
       "      <td>15.55</td>\n",
       "      <td>31.10</td>\n",
       "      <td>690.31</td>\n",
       "      <td>624.08</td>\n",
       "      <td>1309.31</td>\n",
       "      <td>0.23</td>\n",
       "      <td>0.05</td>\n",
       "      <td>0.05</td>\n",
       "      <td>2409.97</td>\n",
       "      <td>0.05</td>\n",
       "      <td>0.05</td>\n",
       "      <td>0.47</td>\n",
       "      <td>0.26</td>\n",
       "      <td>0.10</td>\n",
       "    </tr>\n",
       "    <tr>\n",
       "      <th>min</th>\n",
       "      <td>1.00</td>\n",
       "      <td>0.00</td>\n",
       "      <td>2.00</td>\n",
       "      <td>2.00</td>\n",
       "      <td>4.00</td>\n",
       "      <td>2.00</td>\n",
       "      <td>2.00</td>\n",
       "      <td>5.00</td>\n",
       "      <td>2.00</td>\n",
       "      <td>0.34</td>\n",
       "      <td>0.35</td>\n",
       "      <td>0.00</td>\n",
       "      <td>0.01</td>\n",
       "      <td>0.01</td>\n",
       "      <td>0.00</td>\n",
       "      <td>0.00</td>\n",
       "      <td>0.01</td>\n",
       "    </tr>\n",
       "    <tr>\n",
       "      <th>25%</th>\n",
       "      <td>69.00</td>\n",
       "      <td>0.00</td>\n",
       "      <td>2.00</td>\n",
       "      <td>2.00</td>\n",
       "      <td>4.00</td>\n",
       "      <td>5.00</td>\n",
       "      <td>9.00</td>\n",
       "      <td>15.75</td>\n",
       "      <td>3.00</td>\n",
       "      <td>0.44</td>\n",
       "      <td>0.46</td>\n",
       "      <td>0.00</td>\n",
       "      <td>0.02</td>\n",
       "      <td>0.02</td>\n",
       "      <td>0.00</td>\n",
       "      <td>0.60</td>\n",
       "      <td>0.05</td>\n",
       "    </tr>\n",
       "    <tr>\n",
       "      <th>50%</th>\n",
       "      <td>139.00</td>\n",
       "      <td>0.00</td>\n",
       "      <td>3.00</td>\n",
       "      <td>3.00</td>\n",
       "      <td>6.00</td>\n",
       "      <td>13.00</td>\n",
       "      <td>20.00</td>\n",
       "      <td>33.00</td>\n",
       "      <td>3.00</td>\n",
       "      <td>0.45</td>\n",
       "      <td>0.47</td>\n",
       "      <td>0.00</td>\n",
       "      <td>0.03</td>\n",
       "      <td>0.03</td>\n",
       "      <td>1.00</td>\n",
       "      <td>1.00</td>\n",
       "      <td>0.07</td>\n",
       "    </tr>\n",
       "    <tr>\n",
       "      <th>75%</th>\n",
       "      <td>203.50</td>\n",
       "      <td>1.00</td>\n",
       "      <td>6.00</td>\n",
       "      <td>6.00</td>\n",
       "      <td>12.00</td>\n",
       "      <td>31.25</td>\n",
       "      <td>49.50</td>\n",
       "      <td>83.00</td>\n",
       "      <td>3.00</td>\n",
       "      <td>0.48</td>\n",
       "      <td>0.49</td>\n",
       "      <td>14.35</td>\n",
       "      <td>0.05</td>\n",
       "      <td>0.05</td>\n",
       "      <td>1.00</td>\n",
       "      <td>1.00</td>\n",
       "      <td>0.11</td>\n",
       "    </tr>\n",
       "    <tr>\n",
       "      <th>max</th>\n",
       "      <td>269.00</td>\n",
       "      <td>2.00</td>\n",
       "      <td>183.00</td>\n",
       "      <td>183.00</td>\n",
       "      <td>366.00</td>\n",
       "      <td>9873.00</td>\n",
       "      <td>9300.00</td>\n",
       "      <td>19173.00</td>\n",
       "      <td>4.00</td>\n",
       "      <td>0.80</td>\n",
       "      <td>0.87</td>\n",
       "      <td>34455.09</td>\n",
       "      <td>0.43</td>\n",
       "      <td>0.43</td>\n",
       "      <td>1.00</td>\n",
       "      <td>1.00</td>\n",
       "      <td>1.00</td>\n",
       "    </tr>\n",
       "  </tbody>\n",
       "</table>\n",
       "</div>\n",
       "      <button class=\"colab-df-convert\" onclick=\"convertToInteractive('df-d07db637-0507-4292-a0c3-aada3e765c75')\"\n",
       "              title=\"Convert this dataframe to an interactive table.\"\n",
       "              style=\"display:none;\">\n",
       "        \n",
       "  <svg xmlns=\"http://www.w3.org/2000/svg\" height=\"24px\"viewBox=\"0 0 24 24\"\n",
       "       width=\"24px\">\n",
       "    <path d=\"M0 0h24v24H0V0z\" fill=\"none\"/>\n",
       "    <path d=\"M18.56 5.44l.94 2.06.94-2.06 2.06-.94-2.06-.94-.94-2.06-.94 2.06-2.06.94zm-11 1L8.5 8.5l.94-2.06 2.06-.94-2.06-.94L8.5 2.5l-.94 2.06-2.06.94zm10 10l.94 2.06.94-2.06 2.06-.94-2.06-.94-.94-2.06-.94 2.06-2.06.94z\"/><path d=\"M17.41 7.96l-1.37-1.37c-.4-.4-.92-.59-1.43-.59-.52 0-1.04.2-1.43.59L10.3 9.45l-7.72 7.72c-.78.78-.78 2.05 0 2.83L4 21.41c.39.39.9.59 1.41.59.51 0 1.02-.2 1.41-.59l7.78-7.78 2.81-2.81c.8-.78.8-2.07 0-2.86zM5.41 20L4 18.59l7.72-7.72 1.47 1.35L5.41 20z\"/>\n",
       "  </svg>\n",
       "      </button>\n",
       "      \n",
       "  <style>\n",
       "    .colab-df-container {\n",
       "      display:flex;\n",
       "      flex-wrap:wrap;\n",
       "      gap: 12px;\n",
       "    }\n",
       "\n",
       "    .colab-df-convert {\n",
       "      background-color: #E8F0FE;\n",
       "      border: none;\n",
       "      border-radius: 50%;\n",
       "      cursor: pointer;\n",
       "      display: none;\n",
       "      fill: #1967D2;\n",
       "      height: 32px;\n",
       "      padding: 0 0 0 0;\n",
       "      width: 32px;\n",
       "    }\n",
       "\n",
       "    .colab-df-convert:hover {\n",
       "      background-color: #E2EBFA;\n",
       "      box-shadow: 0px 1px 2px rgba(60, 64, 67, 0.3), 0px 1px 3px 1px rgba(60, 64, 67, 0.15);\n",
       "      fill: #174EA6;\n",
       "    }\n",
       "\n",
       "    [theme=dark] .colab-df-convert {\n",
       "      background-color: #3B4455;\n",
       "      fill: #D2E3FC;\n",
       "    }\n",
       "\n",
       "    [theme=dark] .colab-df-convert:hover {\n",
       "      background-color: #434B5C;\n",
       "      box-shadow: 0px 1px 3px 1px rgba(0, 0, 0, 0.15);\n",
       "      filter: drop-shadow(0px 1px 2px rgba(0, 0, 0, 0.3));\n",
       "      fill: #FFFFFF;\n",
       "    }\n",
       "  </style>\n",
       "\n",
       "      <script>\n",
       "        const buttonEl =\n",
       "          document.querySelector('#df-d07db637-0507-4292-a0c3-aada3e765c75 button.colab-df-convert');\n",
       "        buttonEl.style.display =\n",
       "          google.colab.kernel.accessAllowed ? 'block' : 'none';\n",
       "\n",
       "        async function convertToInteractive(key) {\n",
       "          const element = document.querySelector('#df-d07db637-0507-4292-a0c3-aada3e765c75');\n",
       "          const dataTable =\n",
       "            await google.colab.kernel.invokeFunction('convertToInteractive',\n",
       "                                                     [key], {});\n",
       "          if (!dataTable) return;\n",
       "\n",
       "          const docLinkHtml = 'Like what you see? Visit the ' +\n",
       "            '<a target=\"_blank\" href=https://colab.research.google.com/notebooks/data_table.ipynb>data table notebook</a>'\n",
       "            + ' to learn more about interactive tables.';\n",
       "          element.innerHTML = '';\n",
       "          dataTable['output_type'] = 'display_data';\n",
       "          await google.colab.output.renderOutput(dataTable, element);\n",
       "          const docLink = document.createElement('div');\n",
       "          docLink.innerHTML = docLinkHtml;\n",
       "          element.appendChild(docLink);\n",
       "        }\n",
       "      </script>\n",
       "    </div>\n",
       "  </div>\n",
       "  "
      ],
      "text/plain": [
       "           Id  modularity_class  indegree  outdegree  Degree  \\\n",
       "count  243.00            244.00    244.00     244.00  244.00   \n",
       "mean   137.08              0.50      7.61       7.61   15.23   \n",
       "std     77.97              0.64     15.55      15.55   31.10   \n",
       "min      1.00              0.00      2.00       2.00    4.00   \n",
       "25%     69.00              0.00      2.00       2.00    4.00   \n",
       "50%    139.00              0.00      3.00       3.00    6.00   \n",
       "75%    203.50              1.00      6.00       6.00   12.00   \n",
       "max    269.00              2.00    183.00     183.00  366.00   \n",
       "\n",
       "       weighted indegree  weighted outdegree  Weighted Degree  Eccentricity  \\\n",
       "count             244.00              244.00           244.00        244.00   \n",
       "mean              101.31              101.31           202.61          3.01   \n",
       "std               690.31              624.08          1309.31          0.23   \n",
       "min                 2.00                2.00             5.00          2.00   \n",
       "25%                 5.00                9.00            15.75          3.00   \n",
       "50%                13.00               20.00            33.00          3.00   \n",
       "75%                31.25               49.50            83.00          3.00   \n",
       "max              9873.00             9300.00         19173.00          4.00   \n",
       "\n",
       "       closnesscentrality  harmonicclosnesscentrality  betweenesscentrality  \\\n",
       "count              244.00                      244.00                244.00   \n",
       "mean                 0.45                        0.47                304.30   \n",
       "std                  0.05                        0.05               2409.97   \n",
       "min                  0.34                        0.35                  0.00   \n",
       "25%                  0.44                        0.46                  0.00   \n",
       "50%                  0.45                        0.47                  0.00   \n",
       "75%                  0.48                        0.49                 14.35   \n",
       "max                  0.80                        0.87              34455.09   \n",
       "\n",
       "       Authority     Hub  stat_inf_class  clustering  eigencentrality  \n",
       "count     244.00  244.00          244.00      244.00           244.00  \n",
       "mean        0.04    0.04            0.66        0.80             0.10  \n",
       "std         0.05    0.05            0.47        0.26             0.10  \n",
       "min         0.01    0.01            0.00        0.00             0.01  \n",
       "25%         0.02    0.02            0.00        0.60             0.05  \n",
       "50%         0.03    0.03            1.00        1.00             0.07  \n",
       "75%         0.05    0.05            1.00        1.00             0.11  \n",
       "max         0.43    0.43            1.00        1.00             1.00  "
      ]
     },
     "execution_count": 27,
     "metadata": {},
     "output_type": "execute_result"
    }
   ],
   "source": [
    "nodestats.describe().round(2)"
   ]
  },
  {
   "cell_type": "code",
   "execution_count": 28,
   "metadata": {
    "colab": {
     "base_uri": "https://localhost:8080/"
    },
    "executionInfo": {
     "elapsed": 23,
     "status": "ok",
     "timestamp": 1665492310971,
     "user": {
      "displayName": "T. Hoekstra",
      "userId": "15583416116369470687"
     },
     "user_tz": -120
    },
    "id": "lKzX61YnCkHW",
    "outputId": "08c95e1a-cd21-461f-e57d-01a0bc8e5b45"
   },
   "outputs": [
    {
     "data": {
      "text/plain": [
       "0    143\n",
       "1     81\n",
       "2     20\n",
       "Name: modularity_class, dtype: int64"
      ]
     },
     "execution_count": 28,
     "metadata": {},
     "output_type": "execute_result"
    }
   ],
   "source": [
    "nodestats['modularity_class'].value_counts()"
   ]
  },
  {
   "cell_type": "code",
   "execution_count": 29,
   "metadata": {
    "colab": {
     "base_uri": "https://localhost:8080/",
     "height": 0
    },
    "executionInfo": {
     "elapsed": 421,
     "status": "ok",
     "timestamp": 1665492311370,
     "user": {
      "displayName": "T. Hoekstra",
      "userId": "15583416116369470687"
     },
     "user_tz": -120
    },
    "id": "kZ7xBW4fgMeP",
    "outputId": "5b34c872-afc9-4ac5-fbc1-ecb60ce4e644"
   },
   "outputs": [
    {
     "data": {
      "text/plain": [
       "<seaborn.axisgrid.FacetGrid at 0x7fe0488a5990>"
      ]
     },
     "execution_count": 29,
     "metadata": {},
     "output_type": "execute_result"
    },
    {
     "data": {
      "image/png": "[encoded data removed]",
      "text/plain": [
       "<Figure size 360x360 with 1 Axes>"
      ]
     },
     "metadata": {
      "needs_background": "light"
     },
     "output_type": "display_data"
    }
   ],
   "source": [
    "sns.displot(nodestats['Degree'], kde=True)"
   ]
  },
  {
   "cell_type": "code",
   "execution_count": 30,
   "metadata": {
    "colab": {
     "base_uri": "https://localhost:8080/",
     "height": 0
    },
    "executionInfo": {
     "elapsed": 18,
     "status": "ok",
     "timestamp": 1665492311372,
     "user": {
      "displayName": "T. Hoekstra",
      "userId": "15583416116369470687"
     },
     "user_tz": -120
    },
    "id": "9S5L8_UMX475",
    "outputId": "13fe2c06-5f1a-4ec2-e860-b43ae3e78f97"
   },
   "outputs": [
    {
     "data": {
      "text/plain": [
       "<seaborn.axisgrid.FacetGrid at 0x7fe04894a190>"
      ]
     },
     "execution_count": 30,
     "metadata": {},
     "output_type": "execute_result"
    },
    {
     "data": {
      "image/png": "[encoded data removed]",
      "text/plain": [
       "<Figure size 360x360 with 1 Axes>"
      ]
     },
     "metadata": {
      "needs_background": "light"
     },
     "output_type": "display_data"
    }
   ],
   "source": [
    "sns.displot(nodestats['eigencentrality'], kde=True)"
   ]
  },
  {
   "cell_type": "code",
   "execution_count": 31,
   "metadata": {
    "executionInfo": {
     "elapsed": 13,
     "status": "ok",
     "timestamp": 1665492311373,
     "user": {
      "displayName": "T. Hoekstra",
      "userId": "15583416116369470687"
     },
     "user_tz": -120
    },
    "id": "zIxutYYpR6BW"
   },
   "outputs": [],
   "source": [
    "df4 = nodestats[['Degree', 'weighted indegree',\t'weighted outdegree',\t'Weighted Degree', 'Eccentricity','betweenesscentrality']]\n",
    "df4_norm= (df4-df4.min())/ (df4.max() - df4.min())\n",
    "df4_norm = pd.merge(left=df4_norm, right=nodestats[['closnesscentrality','harmonicclosnesscentrality','Authority','Hub','clustering','eigencentrality']], left_index=True,right_index=True)\n",
    "#df4_norm"
   ]
  },
  {
   "cell_type": "code",
   "execution_count": 32,
   "metadata": {
    "colab": {
     "base_uri": "https://localhost:8080/",
     "height": 0
    },
    "executionInfo": {
     "elapsed": 602,
     "status": "ok",
     "timestamp": 1665492311963,
     "user": {
      "displayName": "T. Hoekstra",
      "userId": "15583416116369470687"
     },
     "user_tz": -120
    },
    "id": "2j93TG9QRc43",
    "outputId": "7664d1ed-bc75-4b63-a395-e909151b58a8"
   },
   "outputs": [
    {
     "data": {
      "text/plain": [
       "<matplotlib.axes._subplots.AxesSubplot at 0x7fe04c29c690>"
      ]
     },
     "execution_count": 32,
     "metadata": {},
     "output_type": "execute_result"
    },
    {
     "data": {
      "image/png": "[encoded data removed]",
      "text/plain": [
       "<Figure size 1296x504 with 1 Axes>"
      ]
     },
     "metadata": {},
     "output_type": "display_data"
    }
   ],
   "source": [
    "sns.set(rc={\"figure.figsize\":(18, 7)})\n",
    "sns.boxplot(data=df4_norm)"
   ]
  }
 ],
 "metadata": {
  "colab": {
   "authorship_tag": "ABX9TyMbGsKH6kFV4mPOCWFXiNH7",
   "provenance": []
  },
  "kernelspec": {
   "display_name": "Python 3",
   "language": "python",
   "name": "python3"
  },
  "language_info": {
   "codemirror_mode": {
    "name": "ipython",
    "version": 3
   },
   "file_extension": ".py",
   "mimetype": "text/x-python",
   "name": "python",
   "nbconvert_exporter": "python",
   "pygments_lexer": "ipython3",
   "version": "3.8.8"
  }
 },
 "nbformat": 4,
 "nbformat_minor": 1
}
