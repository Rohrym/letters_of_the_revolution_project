{
 "cells": [
  {
   "cell_type": "markdown",
   "metadata": {},
   "source": [
    "# Letters of the Republic Network statistics and visualizations\n",
    "\n",
    "In this Juypiter Notebook we will generate the final results stemming from the Letters of the Republic Project. These statistics are based upon data gathered and filtered from [People of the Founding Era](https://pfe.rotunda.upress.virginia.edu/) (PFE) as well as the [Founders Online](https://www.founders.archives.gov/) archive. "
   ]
  },
  {
   "cell_type": "code",
   "execution_count": 1,
   "metadata": {
    "executionInfo": {
     "elapsed": 1270,
     "status": "ok",
     "timestamp": 1665492302184,
     "user": {
      "displayName": "T. Hoekstra",
      "userId": "15583416116369470687"
     },
     "user_tz": -120
    },
    "id": "Um50WVkMjki3"
   },
   "outputs": [],
   "source": [
    "#importing the relevant libraries\n",
    "import pandas as pd\n",
    "import seaborn as sns\n",
    "import matplotlib.pyplot as plt\n",
    "import os"
   ]
  },
  {
   "cell_type": "code",
   "execution_count": 2,
   "metadata": {
    "executionInfo": {
     "elapsed": 4282,
     "status": "ok",
     "timestamp": 1665492306458,
     "user": {
      "displayName": "T. Hoekstra",
      "userId": "15583416116369470687"
     },
     "user_tz": -120
    },
    "id": "arDApxVNjl6E"
   },
   "outputs": [],
   "source": [
    "#opening the relevant files\n",
    "os.path.normpath(os.getcwd() + os.sep + os.pardir)\n",
    "nodelist = pd.read_csv(\"../data/network_data/pfe_data/filtered_nodes_w_bio_data.csv\")\n",
    "nodestats = pd.read_csv(\"../data/network_data/gephi_output/filtered_lotrp_nodes.csv\")\n",
    "edgelist = pd.read_csv(\"../data/network_data/gephi_output/filtered_lotrp_edges.csv\")"
   ]
  },
  {
   "cell_type": "markdown",
   "metadata": {},
   "source": [
    "## Biographical data\n",
    "\n",
    "In this section we will look at measurements based on the biographical data provided by PFE, in some cases combined with edge and node data. We will look at statistics about age; gender; occupation, nationality, formal role and memberships of other organisations."
   ]
  },
  {
   "cell_type": "markdown",
   "metadata": {},
   "source": [
    "### General stats"
   ]
  },
  {
   "cell_type": "code",
   "execution_count": 3,
   "metadata": {
    "colab": {
     "base_uri": "https://localhost:8080/"
    },
    "executionInfo": {
     "elapsed": 56,
     "status": "ok",
     "timestamp": 1665492306461,
     "user": {
      "displayName": "T. Hoekstra",
      "userId": "15583416116369470687"
     },
     "user_tz": -120
    },
    "id": "X4XZAodI142t",
    "outputId": "a9bbf25b-80c3-4309-9fdf-29152a863a15"
   },
   "outputs": [
    {
     "name": "stdout",
     "output_type": "stream",
     "text": [
      "amount of actors: 302\n",
      "amount of letters 26971\n"
     ]
    }
   ],
   "source": [
    "#calculating the amount of actors and letters in dataset and \n",
    "print(f'amount of actors: {len(nodelist)}')\n",
    "print( 'amount of letters', edgelist['Weight'].sum())"
   ]
  },
  {
   "cell_type": "code",
   "execution_count": 4,
   "metadata": {},
   "outputs": [
    {
     "name": "stdout",
     "output_type": "stream",
     "text": [
      "amount per gender:\n",
      "M    271\n",
      "O     24\n",
      "V      6\n",
      "Name: Gender, dtype: int64\n"
     ]
    }
   ],
   "source": [
    "#querying the gender of the actors. \"O\" stands for organization.\n",
    "print('amount per gender:')\n",
    "print(nodelist['Gender'].value_counts())"
   ]
  },
  {
   "cell_type": "code",
   "execution_count": 5,
   "metadata": {
    "colab": {
     "base_uri": "https://localhost:8080/",
     "height": 549
    },
    "executionInfo": {
     "elapsed": 844,
     "status": "ok",
     "timestamp": 1665492307268,
     "user": {
      "displayName": "T. Hoekstra",
      "userId": "15583416116369470687"
     },
     "user_tz": -120
    },
    "id": "R2E0z2MhXCCq",
    "outputId": "8b7b33a0-f659-4b29-9357-8417498080ba"
   },
   "outputs": [
    {
     "name": "stdout",
     "output_type": "stream",
     "text": [
      "count    253\n",
      "mean      35\n",
      "std       11\n",
      "min        7\n",
      "25%       28\n",
      "50%       35\n",
      "75%       43\n",
      "max       75\n",
      "Name: Year born, dtype: int32\n"
     ]
    }
   ],
   "source": [
    "#calculating the various age statistics based on the year 1775.\n",
    "yearborn = nodelist['Year born'].dropna().astype('int')\n",
    "yearborn['age'] = 1775 - yearborn\n",
    "print(yearborn['age'].describe().astype('int'))"
   ]
  },
  {
   "cell_type": "code",
   "execution_count": 6,
   "metadata": {},
   "outputs": [
    {
     "name": "stdout",
     "output_type": "stream",
     "text": [
      "<seaborn.axisgrid.FacetGrid object at 0x00000278BC25B520>\n"
     ]
    },
    {
     "data": {
      "image/png": "[encoded data removed]",
      "text/plain": [
       "<Figure size 360x360 with 1 Axes>"
      ]
     },
     "metadata": {
      "needs_background": "light"
     },
     "output_type": "display_data"
    }
   ],
   "source": [
    "#graphing age distribution in 1775.\n",
    "print(sns.displot(yearborn['age'].astype('int'),kde=True))"
   ]
  },
  {
   "cell_type": "markdown",
   "metadata": {},
   "source": [
    "### Nationality\n",
    "\n",
    "Section describing nationality statistics. Each U.S. state is taken seperately when it comes to nationality, except for organizations related to the U.S. who will be counted under the \"United States\" label. "
   ]
  },
  {
   "cell_type": "code",
   "execution_count": 7,
   "metadata": {
    "colab": {
     "base_uri": "https://localhost:8080/",
     "height": 348
    },
    "executionInfo": {
     "elapsed": 50,
     "status": "ok",
     "timestamp": 1665492307273,
     "user": {
      "displayName": "T. Hoekstra",
      "userId": "15583416116369470687"
     },
     "user_tz": -120
    },
    "id": "4LUpMca4nkmc",
    "outputId": "fad145d6-6283-4ee4-bf7d-fc3a8e76e421"
   },
   "outputs": [
    {
     "data": {
      "text/plain": [
       "<AxesSubplot:xlabel='Nationality/State', ylabel='index'>"
      ]
     },
     "execution_count": 7,
     "metadata": {},
     "output_type": "execute_result"
    },
    {
     "data": {
      "image/png": "[encoded data removed]",
      "text/plain": [
       "<Figure size 432x288 with 1 Axes>"
      ]
     },
     "metadata": {
      "needs_background": "light"
     },
     "output_type": "display_data"
    }
   ],
   "source": [
    "#graphing the distribution of nationalities.\n",
    "nationality = nodelist['Nationality/State'].str.split(';').explode().str.strip().value_counts().reset_index()\n",
    "sns.barplot(data= nationality, x='Nationality/State',y='index')"
   ]
  },
  {
   "cell_type": "code",
   "execution_count": 8,
   "metadata": {
    "colab": {
     "base_uri": "https://localhost:8080/"
    },
    "executionInfo": {
     "elapsed": 67,
     "status": "ok",
     "timestamp": 1665492307269,
     "user": {
      "displayName": "T. Hoekstra",
      "userId": "15583416116369470687"
     },
     "user_tz": -120
    },
    "id": "weopoac8PFN7",
    "outputId": "439267d9-6431-4120-91fe-fe7295477d1e"
   },
   "outputs": [
    {
     "name": "stdout",
     "output_type": "stream",
     "text": [
      "Proportion of actors from the top 5 nationalities: 0.6073825503355704\n",
      "Proportion of actors from the United States: 0.7718120805369127\n"
     ]
    }
   ],
   "source": [
    "#Calculating the proportion of actors from top 5 nationalities & the United States.\n",
    "top_5_nationalities=['Virginia','Pennsylvania','Massachusetts','France','New York']\n",
    "united_states = ['Connecticut','Massachusetts','New Hampshire','Pennsylvania','Maryland','Delaware',\n",
    "         'Rhode Island','New York','New Jersey','Virginia','North Carolina','South Carolina','Georgia','United States']\n",
    "\n",
    "print('Proportion of actors from the top 5 nationalities:',nationality['Nationality/State'].loc[nationality['index'].isin(top_5_nationalities)].sum()/nationality['Nationality/State'].sum())\n",
    "print('Proportion of actors from the United States:',nationality['Nationality/State'].loc[nationality['index'].isin(united_states)].sum()/nationality['Nationality/State'].sum())"
   ]
  },
  {
   "cell_type": "code",
   "execution_count": 9,
   "metadata": {
    "executionInfo": {
     "elapsed": 107,
     "status": "ok",
     "timestamp": 1665492307645,
     "user": {
      "displayName": "T. Hoekstra",
      "userId": "15583416116369470687"
     },
     "user_tz": -120
    },
    "id": "lYgzvp6FXSBJ"
   },
   "outputs": [],
   "source": [
    "#defining function to calculate the amount of letters send and received by one or more individuals\n",
    "# to one of more states/countries.\n",
    "def state_factor(edgelist, nodelist, names, states):\n",
    "  state_factor_auth = edgelist.loc[edgelist['Source'] == names]\n",
    "  state_factor_auth = pd.merge(state_factor_auth[['Source','Target','Weight']],nodelist,left_on='Target',right_on='Names')\n",
    "  state_factor_authored = state_factor_auth[['Nationality/State','Weight']].set_index(['Weight']).apply(lambda x: x.str.split(';')).explode('Nationality/State').reset_index()\n",
    "  state_factor_authored = state_factor_authored.loc[state_factor_authored['Nationality/State'].isin(states)]\n",
    "  state_factor_authored = state_factor_authored['Weight'].sum()/state_factor_auth['Weight'].sum()*100\n",
    "  \n",
    "  state_factor_rec = edgelist.loc[edgelist['Target'] == names]\n",
    "  state_factor_rec = pd.merge(state_factor_rec[['Source','Target','Weight']],nodelist,left_on='Source',right_on='Names')\n",
    "  state_factor_recip = state_factor_rec[['Nationality/State','Weight']].set_index(['Weight']).apply(lambda x: x.str.split(';')).explode('Nationality/State').reset_index()\n",
    "  state_factor_recip = state_factor_recip.loc[state_factor_recip['Nationality/State'].isin(states)]\n",
    "  state_factor_recip = state_factor_recip['Weight'].sum()/state_factor_rec['Weight'].sum()*100\n",
    "\n",
    "  state_factor = (state_factor_authored+state_factor_recip)/2\n",
    "  return state_factor_authored,state_factor_recip, state_factor"
   ]
  },
  {
   "cell_type": "code",
   "execution_count": 10,
   "metadata": {
    "colab": {
     "base_uri": "https://localhost:8080/"
    },
    "executionInfo": {
     "elapsed": 104,
     "status": "ok",
     "timestamp": 1665492307646,
     "user": {
      "displayName": "T. Hoekstra",
      "userId": "15583416116369470687"
     },
     "user_tz": -120
    },
    "id": "vfm5EVRYYOsK",
    "outputId": "ea0c8386-ebe4-40da-9230-b84d30c411cd"
   },
   "outputs": [
    {
     "name": "stdout",
     "output_type": "stream",
     "text": [
      "Percentage of letters to and from people associated with Connecticut, Massachusetts, New Hampshire, Pennsylvania, Maryland, Delaware, Rhode Island, New York, New Jersey, Virginia, North Carolina, South Carolina, Georgia, United States: \n",
      "\n",
      "                        to   from  combined\n",
      "Madison, James       99.59  97.30     98.44\n",
      "Washington, George   94.17  92.93     93.55\n",
      "Jay, John            91.36  88.09     89.72\n",
      "Hamilton, Alexander  89.31  85.50     87.40\n",
      "Jefferson, Thomas    87.35  87.22     87.28\n",
      "Adams, John          78.45  59.32     68.88\n",
      "Franklin, Benjamin   54.16  59.20     56.68\n"
     ]
    }
   ],
   "source": [
    "#executing the previous function.\n",
    "text=\", \"\n",
    "dicteroo = {}\n",
    "founders = ['Washington, George', 'Adams, John', 'Jefferson, Thomas', \n",
    "              'Madison, James', 'Hamilton, Alexander', 'Franklin, Benjamin','Jay, John'] #can add or remove people here\n",
    "states = ['Connecticut','Massachusetts','New Hampshire','Pennsylvania','Maryland','Delaware', \n",
    "         'Rhode Island','New York','New Jersey','Virginia','North Carolina','South Carolina','Georgia','United States'] #can add or remove states here\n",
    "\n",
    "for names in founders:\n",
    "  dicteroo[names] = state_factor(edgelist, nodelist, names, states)\n",
    "df = pd.DataFrame(dicteroo).T\n",
    "df.columns = ['to', 'from', 'combined']\n",
    "\n",
    "print(f'Percentage of letters to and from people associated with {text.join(states)}: \\n')\n",
    "print(df.round(decimals=2).sort_values(by=['combined'], ascending=False))"
   ]
  },
  {
   "cell_type": "code",
   "execution_count": 11,
   "metadata": {},
   "outputs": [
    {
     "name": "stdout",
     "output_type": "stream",
     "text": [
      "Percentage of letters to and from people associated with Virginia: \n",
      "\n",
      "                        to   from  combined\n",
      "Madison, James       96.33  94.98     95.65\n",
      "Jefferson, Thomas    61.37  57.02     59.19\n",
      "Jay, John            46.91  55.60     51.25\n",
      "Hamilton, Alexander  20.19  26.34     23.26\n",
      "Washington, George   12.66  13.28     12.97\n",
      "Franklin, Benjamin   11.07   8.96     10.02\n",
      "Adams, John           4.05   6.41      5.23\n"
     ]
    }
   ],
   "source": [
    "#executing the previous function.\n",
    "text=\", \"\n",
    "dicteroo = {}\n",
    "founders = ['Washington, George', 'Adams, John', 'Jefferson, Thomas', \n",
    "              'Madison, James', 'Hamilton, Alexander', 'Franklin, Benjamin','Jay, John'] #can add or remove people here\n",
    "states = ['Virginia'] #can add or remove states here\n",
    "\n",
    "for names in founders:\n",
    "  dicteroo[names] = state_factor(edgelist, nodelist, names, states)\n",
    "df = pd.DataFrame(dicteroo).T\n",
    "df.columns = ['to', 'from', 'combined']\n",
    "\n",
    "print(f'Percentage of letters to and from people associated with {text.join(states)}: \\n')\n",
    "print(df.round(decimals=2).sort_values(by=['combined'], ascending=False))"
   ]
  },
  {
   "cell_type": "code",
   "execution_count": 12,
   "metadata": {
    "colab": {
     "base_uri": "https://localhost:8080/"
    },
    "executionInfo": {
     "elapsed": 27,
     "status": "ok",
     "timestamp": 1665492309510,
     "user": {
      "displayName": "T. Hoekstra",
      "userId": "15583416116369470687"
     },
     "user_tz": -120
    },
    "id": "6-cq166Sm5NE",
    "outputId": "6b64cb28-15a5-491f-d5f6-202c075b7c6a"
   },
   "outputs": [
    {
     "data": {
      "text/plain": [
       "Pennsylvania      20\n",
       "New York          19\n",
       "Virginia          15\n",
       "Massachusetts     13\n",
       "Great Britain     10\n",
       "New Jersey        10\n",
       "Connecticut        9\n",
       "France             9\n",
       "South Carolina     5\n",
       "Maryland           4\n",
       "Rhode Island       3\n",
       "United States      2\n",
       "New Hampshire      2\n",
       "Delaware           1\n",
       "Prussia            1\n",
       "Georgia            1\n",
       "Name: Nationality/State, dtype: int64"
      ]
     },
     "execution_count": 12,
     "metadata": {},
     "output_type": "execute_result"
    }
   ],
   "source": [
    "#counts the nationalities for a specified cluster.\n",
    "modclass_1 = nodestats.loc[nodestats['modularity_class'] == 0] #can change the number to be either 0,1,2\n",
    "modclass_1 = pd.merge(modclass_1['Id'],nodelist,left_on='Id',right_on='Names')\n",
    "modclass_1_nat = modclass_1['Nationality/State'].str.split(';').explode().str.strip()\n",
    "modclass_1_nat.value_counts()"
   ]
  },
  {
   "cell_type": "markdown",
   "metadata": {},
   "source": [
    "### Occupations\n",
    "\n",
    "Section dealing with people's professional occupations during or before the American Revolution. People can (and do!) have multiple occupations. The labels are loosly based on the HRAF standards also employed at PFE."
   ]
  },
  {
   "cell_type": "code",
   "execution_count": 13,
   "metadata": {
    "executionInfo": {
     "elapsed": 80,
     "status": "ok",
     "timestamp": 1665492308084,
     "user": {
      "displayName": "T. Hoekstra",
      "userId": "15583416116369470687"
     },
     "user_tz": -120
    },
    "id": "krqalqyvRkBd"
   },
   "outputs": [],
   "source": [
    "def convertTuple(tup):\n",
    "    str = ''.join(tup)\n",
    "    return str"
   ]
  },
  {
   "cell_type": "code",
   "execution_count": 14,
   "metadata": {
    "colab": {
     "base_uri": "https://localhost:8080/",
     "height": 297
    },
    "executionInfo": {
     "elapsed": 86,
     "status": "ok",
     "timestamp": 1665492308092,
     "user": {
      "displayName": "T. Hoekstra",
      "userId": "15583416116369470687"
     },
     "user_tz": -120
    },
    "id": "18gJUSl2-wFl",
    "outputId": "806c1ce1-bfd4-47da-ea57-10ce4c1c7e5d"
   },
   "outputs": [
    {
     "name": "stderr",
     "output_type": "stream",
     "text": [
      "<ipython-input-14-beb5de81f587>:5: FutureWarning: The series.append method is deprecated and will be removed from pandas in a future version. Use pandas.concat instead.\n",
      "  main_occupations = main_occupations.append(pd.Series(other_occupation)).reset_index()\n"
     ]
    },
    {
     "data": {
      "text/plain": [
       "<AxesSubplot:xlabel='index', ylabel='0'>"
      ]
     },
     "execution_count": 14,
     "metadata": {},
     "output_type": "execute_result"
    },
    {
     "data": {
      "image/png": "[encoded data removed]",
      "text/plain": [
       "<Figure size 432x288 with 1 Axes>"
      ]
     },
     "metadata": {
      "needs_background": "light"
     },
     "output_type": "display_data"
    }
   ],
   "source": [
    "#graphs the main occupations related to government.\n",
    "occupations = nodelist[['Occupation', 'Id']].set_index('Id').apply(lambda x: x.str.split(';').explode().astype('string').str.strip())\n",
    "main_occupations = occupations.loc[occupations['Occupation'].isin(['Military','Politician','Diplomat','Statesman','Agent','Militia'])].value_counts()\n",
    "other_occupation = {'Other':occupations.loc[~occupations['Occupation'].isin(['Military','Politician','Diplomat','Statesman','Agent','Militia'])].value_counts().sum()}\n",
    "main_occupations = main_occupations.append(pd.Series(other_occupation)).reset_index()\n",
    "main_occupations['index'] = main_occupations['index'].apply(convertTuple)\n",
    "sns.barplot(data=main_occupations, x='index',y=0)"
   ]
  },
  {
   "cell_type": "code",
   "execution_count": 15,
   "metadata": {
    "colab": {
     "base_uri": "https://localhost:8080/",
     "height": 348
    },
    "executionInfo": {
     "elapsed": 1025,
     "status": "ok",
     "timestamp": 1665492309047,
     "user": {
      "displayName": "T. Hoekstra",
      "userId": "15583416116369470687"
     },
     "user_tz": -120
    },
    "id": "mGNZJP_GTz8g",
    "outputId": "263729b9-b2df-458a-c6cc-79d81a436487"
   },
   "outputs": [
    {
     "data": {
      "image/png": "[encoded data removed]",
      "text/plain": [
       "<Figure size 432x288 with 1 Axes>"
      ]
     },
     "metadata": {
      "needs_background": "light"
     },
     "output_type": "display_data"
    }
   ],
   "source": [
    "#graphs any other occupation.\n",
    "other_occupations = occupations.loc[~occupations['Occupation'].isin(['Military','Politician','Diplomat','Statesman','Agent','Militia'])].value_counts().reset_index()\n",
    "other_occupations = other_occupations.loc[other_occupations[0] > 1]\n",
    "g = sns.barplot(data= other_occupations, x='Occupation', y=0)\n",
    "g.set_xticklabels(labels = other_occupations['Occupation'], rotation=90)\n",
    "plt.show()"
   ]
  },
  {
   "cell_type": "code",
   "execution_count": 16,
   "metadata": {
    "executionInfo": {
     "elapsed": 95,
     "status": "ok",
     "timestamp": 1665492307648,
     "user": {
      "displayName": "T. Hoekstra",
      "userId": "15583416116369470687"
     },
     "user_tz": -120
    },
    "id": "pCHDiIL_I711"
   },
   "outputs": [],
   "source": [
    "#defining function to calculate the amount of letters send and received by one or more individuals\n",
    "#to one of more occupations.\n",
    "\n",
    "def occupation_factor(edgelist, nodelist, names, occupation):\n",
    "  occupation_factor_auth = edgelist.loc[edgelist['Source'] == names]\n",
    "  occupation_factor_auth = pd.merge(occupation_factor_auth[['Source','Target','Weight']],nodelist,left_on='Target',right_on='Names')\n",
    "  occupation_factor_authored = occupation_factor_auth[['Occupation','Weight']].set_index(['Weight']).apply(lambda x: x.str.split(';')).explode('Occupation').reset_index()\n",
    "  occupation_factor_authored = occupation_factor_authored.loc[occupation_factor_authored['Occupation'].isin(occupation)]\n",
    "  occupation_factor_authored = occupation_factor_authored['Weight'].sum()/occupation_factor_auth['Weight'].sum()*100\n",
    "  \n",
    "  occupation_factor_rec = edgelist.loc[edgelist['Target'] == names]\n",
    "  occupation_factor_rec = pd.merge(occupation_factor_rec[['Source','Target','Weight']],nodelist,left_on='Source',right_on='Names')\n",
    "  occupation_factor_recip = occupation_factor_rec[['Occupation','Weight']].set_index(['Weight']).apply(lambda x: x.str.split(';')).explode('Occupation').reset_index()\n",
    "  occupation_factor_recip = occupation_factor_recip.loc[occupation_factor_recip['Occupation'].isin(occupation)]\n",
    "  occupation_factor_recip = occupation_factor_recip['Weight'].sum()/occupation_factor_rec['Weight'].sum()*100\n",
    "\n",
    "  occupation_factor = (occupation_factor_authored+occupation_factor_recip)/2\n",
    "  return occupation_factor_authored,occupation_factor_recip, occupation_factor"
   ]
  },
  {
   "cell_type": "code",
   "execution_count": 17,
   "metadata": {
    "colab": {
     "base_uri": "https://localhost:8080/"
    },
    "executionInfo": {
     "elapsed": 512,
     "status": "ok",
     "timestamp": 1665492308066,
     "user": {
      "displayName": "T. Hoekstra",
      "userId": "15583416116369470687"
     },
     "user_tz": -120
    },
    "id": "4gUX5NvvI7-_",
    "outputId": "11e9e17d-ae11-462a-927d-4f8d8da8319c"
   },
   "outputs": [
    {
     "name": "stdout",
     "output_type": "stream",
     "text": [
      "Percentage of letters to and from people who were a Politician, Statesman: \n",
      "\n",
      "                        to   from  combined\n",
      "Madison, James       48.57  47.88     48.22\n",
      "Jay, John            55.56  32.85     44.20\n",
      "Franklin, Benjamin   41.90  28.78     35.34\n",
      "Washington, George   40.46  30.17     35.31\n",
      "Adams, John          36.20  27.33     31.76\n",
      "Hamilton, Alexander  28.27  29.77     29.02\n",
      "Jefferson, Thomas    23.52  31.07     27.30\n"
     ]
    }
   ],
   "source": [
    "#executing the previous function.\n",
    "text=\", \"\n",
    "dicteroo = {}\n",
    "founders = ['Washington, George', 'Adams, John', 'Jefferson, Thomas', \n",
    "              'Madison, James', 'Hamilton, Alexander', 'Franklin, Benjamin','Jay, John'] #can add or remove people here\n",
    "occupations = ['Politician','Statesman'] #can add or remove occupations here. \n",
    "\n",
    "for names in founders:\n",
    "  dicteroo[names] = occupation_factor(edgelist, nodelist,names,occupations)\n",
    "df = pd.DataFrame(dicteroo).T\n",
    "df.columns = ['to', 'from', 'combined']\n",
    "\n",
    "print(f'Percentage of letters to and from people who were a {text.join(occupations)}: \\n')\n",
    "print(df.round(decimals=2).sort_values(by=['combined'], ascending=False))"
   ]
  },
  {
   "cell_type": "code",
   "execution_count": 18,
   "metadata": {
    "colab": {
     "base_uri": "https://localhost:8080/"
    },
    "executionInfo": {
     "elapsed": 28,
     "status": "ok",
     "timestamp": 1665492309509,
     "user": {
      "displayName": "T. Hoekstra",
      "userId": "15583416116369470687"
     },
     "user_tz": -120
    },
    "id": "di8X9Mr5iox3",
    "outputId": "a71dcd8e-a599-4e4b-e23a-305f919e676a"
   },
   "outputs": [
    {
     "data": {
      "text/plain": [
       "Delegate Continental Congress                    24\n",
       "Agent in France                                  17\n",
       "Naval Captain                                    15\n",
       "State Representative                              9\n",
       "Peace Commissioner                                4\n",
       "                                                 ..\n",
       "Envoy to Austria                                  1\n",
       "Ambassador of the Kingdom of the Two Sicilies     1\n",
       "Envoy to Spain                                    1\n",
       "Lieutenant                                        1\n",
       "Captain of Associators                            1\n",
       "Name: Position held, Length: 75, dtype: int64"
      ]
     },
     "execution_count": 18,
     "metadata": {},
     "output_type": "execute_result"
    }
   ],
   "source": [
    "#counts the occupations for a specified cluster.\n",
    "modclass_1 = nodestats.loc[nodestats['modularity_class'] == 1]\n",
    "modclass_1 = pd.merge(modclass_1['Id'],nodelist,left_on='Id',right_on='Names')\n",
    "modclass_1_occ = modclass_1['Position held'].str.split(';').explode().str.strip()\n",
    "modclass_1_occ.value_counts()"
   ]
  },
  {
   "cell_type": "markdown",
   "metadata": {},
   "source": [
    "### Formal roles & memberships\n",
    "\n",
    "This section records people's formal roles and memberships. The formal role is the more specific 'job title' as opposed to the more general occupations. Also the formal roles relate to government, military and politics related roles held during the Revolutionary war.\n",
    "\n",
    "Only the memberships of 5 prominent organizations were recorded. In the case of the Society of the Cincinnati only the founding members were recorded as it would strictly fall outside bounds of the war. "
   ]
  },
  {
   "cell_type": "code",
   "execution_count": 19,
   "metadata": {
    "colab": {
     "base_uri": "https://localhost:8080/",
     "height": 283
    },
    "executionInfo": {
     "elapsed": 26,
     "status": "ok",
     "timestamp": 1665492309048,
     "user": {
      "displayName": "T. Hoekstra",
      "userId": "15583416116369470687"
     },
     "user_tz": -120
    },
    "id": "bZJMyKQaAYWk",
    "outputId": "8f6da07d-c1e5-4c6e-fced-3e44b9ea8105",
    "scrolled": true
   },
   "outputs": [
    {
     "data": {
      "text/plain": [
       "<AxesSubplot:xlabel='0', ylabel='Position held'>"
      ]
     },
     "execution_count": 19,
     "metadata": {},
     "output_type": "execute_result"
    },
    {
     "data": {
      "image/png": "[encoded data removed]",
      "text/plain": [
       "<Figure size 432x288 with 1 Axes>"
      ]
     },
     "metadata": {
      "needs_background": "light"
     },
     "output_type": "display_data"
    }
   ],
   "source": [
    "#graphs the top 15 formal roles people held.\n",
    "position = nodelist[['Position held', 'Id']].set_index('Id').apply(lambda x: x.str.split(';').explode().str.strip())\n",
    "position = position.value_counts().nlargest(15).sort_values(ascending=False).reset_index()\n",
    "sns.barplot(data=position, x=0, y='Position held')"
   ]
  },
  {
   "cell_type": "code",
   "execution_count": 20,
   "metadata": {
    "colab": {
     "base_uri": "https://localhost:8080/"
    },
    "executionInfo": {
     "elapsed": 472,
     "status": "ok",
     "timestamp": 1665492309507,
     "user": {
      "displayName": "T. Hoekstra",
      "userId": "15583416116369470687"
     },
     "user_tz": -120
    },
    "id": "6kXsk0dMBWAs",
    "outputId": "d0fb7275-2660-463c-f0a1-0d260cd53f50"
   },
   "outputs": [
    {
     "name": "stderr",
     "output_type": "stream",
     "text": [
      "<ipython-input-20-23259e0dc085>:3: PerformanceWarning: dropping on a non-lexsorted multi-index without a level parameter may impact performance.\n",
      "  memberships = memberships.value_counts().drop('').sort_values(ascending=False).reset_index()\n"
     ]
    },
    {
     "data": {
      "text/plain": [
       "<AxesSubplot:xlabel='0', ylabel='Other memberships'>"
      ]
     },
     "execution_count": 20,
     "metadata": {},
     "output_type": "execute_result"
    },
    {
     "data": {
      "image/png": "[encoded data removed]",
      "text/plain": [
       "<Figure size 432x288 with 1 Axes>"
      ]
     },
     "metadata": {
      "needs_background": "light"
     },
     "output_type": "display_data"
    }
   ],
   "source": [
    "#graphs the recorded membership of actors.\n",
    "memberships = nodelist[['Other memberships', 'Id']].set_index('Id').apply(lambda x: x.str.split(';').explode().str.strip())\n",
    "memberships = memberships.value_counts().drop('').sort_values(ascending=False).reset_index()\n",
    "sns.barplot(data=memberships, x=0, y='Other memberships')"
   ]
  },
  {
   "cell_type": "markdown",
   "metadata": {
    "id": "g-ggRORbXtVz"
   },
   "source": [
    "## Network statistics"
   ]
  },
  {
   "cell_type": "code",
   "execution_count": 21,
   "metadata": {
    "colab": {
     "base_uri": "https://localhost:8080/"
    },
    "executionInfo": {
     "elapsed": 23,
     "status": "ok",
     "timestamp": 1665492310971,
     "user": {
      "displayName": "T. Hoekstra",
      "userId": "15583416116369470687"
     },
     "user_tz": -120
    },
    "id": "lKzX61YnCkHW",
    "outputId": "08c95e1a-cd21-461f-e57d-01a0bc8e5b45"
   },
   "outputs": [
    {
     "data": {
      "text/plain": [
       "0    122\n",
       "1    142\n",
       "2     38\n",
       "Name: modularity_class, dtype: int64"
      ]
     },
     "execution_count": 21,
     "metadata": {},
     "output_type": "execute_result"
    }
   ],
   "source": [
    "#Calculating the amount of people per cluster\n",
    "nodestats['modularity_class'].value_counts().sort_index()"
   ]
  },
  {
   "cell_type": "code",
   "execution_count": 22,
   "metadata": {
    "colab": {
     "base_uri": "https://localhost:8080/",
     "height": 0
    },
    "executionInfo": {
     "elapsed": 24,
     "status": "ok",
     "timestamp": 1665492310970,
     "user": {
      "displayName": "T. Hoekstra",
      "userId": "15583416116369470687"
     },
     "user_tz": -120
    },
    "id": "HdEkHsaDcOUv",
    "outputId": "b36e88bf-bbb5-4c2c-b567-5d095573d5e0"
   },
   "outputs": [
    {
     "data": {
      "text/html": [
       "<div>\n",
       "<style scoped>\n",
       "    .dataframe tbody tr th:only-of-type {\n",
       "        vertical-align: middle;\n",
       "    }\n",
       "\n",
       "    .dataframe tbody tr th {\n",
       "        vertical-align: top;\n",
       "    }\n",
       "\n",
       "    .dataframe thead th {\n",
       "        text-align: right;\n",
       "    }\n",
       "</style>\n",
       "<table border=\"1\" class=\"dataframe\">\n",
       "  <thead>\n",
       "    <tr style=\"text-align: right;\">\n",
       "      <th></th>\n",
       "      <th>Label</th>\n",
       "      <th>timeset</th>\n",
       "      <th>indegree</th>\n",
       "      <th>outdegree</th>\n",
       "      <th>Degree</th>\n",
       "      <th>weighted indegree</th>\n",
       "      <th>weighted outdegree</th>\n",
       "      <th>Weighted Degree</th>\n",
       "      <th>Eccentricity</th>\n",
       "      <th>closnesscentrality</th>\n",
       "      <th>harmonicclosnesscentrality</th>\n",
       "      <th>betweenesscentrality</th>\n",
       "      <th>modularity_class</th>\n",
       "      <th>clustering</th>\n",
       "      <th>eigencentrality</th>\n",
       "      <th>componentnumber</th>\n",
       "      <th>strongcompnum</th>\n",
       "      <th>Authority</th>\n",
       "      <th>Hub</th>\n",
       "      <th>stat_inf_class</th>\n",
       "    </tr>\n",
       "  </thead>\n",
       "  <tbody>\n",
       "    <tr>\n",
       "      <th>count</th>\n",
       "      <td>0.0</td>\n",
       "      <td>0.0</td>\n",
       "      <td>302.00</td>\n",
       "      <td>302.00</td>\n",
       "      <td>302.00</td>\n",
       "      <td>302.00</td>\n",
       "      <td>302.00</td>\n",
       "      <td>302.00</td>\n",
       "      <td>302.00</td>\n",
       "      <td>302.00</td>\n",
       "      <td>302.00</td>\n",
       "      <td>302.00</td>\n",
       "      <td>302.00</td>\n",
       "      <td>302.00</td>\n",
       "      <td>302.00</td>\n",
       "      <td>302.0</td>\n",
       "      <td>302.0</td>\n",
       "      <td>302.00</td>\n",
       "      <td>302.00</td>\n",
       "      <td>302.00</td>\n",
       "    </tr>\n",
       "    <tr>\n",
       "      <th>mean</th>\n",
       "      <td>NaN</td>\n",
       "      <td>NaN</td>\n",
       "      <td>5.55</td>\n",
       "      <td>5.55</td>\n",
       "      <td>11.10</td>\n",
       "      <td>89.31</td>\n",
       "      <td>89.31</td>\n",
       "      <td>178.62</td>\n",
       "      <td>3.34</td>\n",
       "      <td>0.45</td>\n",
       "      <td>0.47</td>\n",
       "      <td>374.87</td>\n",
       "      <td>0.72</td>\n",
       "      <td>0.86</td>\n",
       "      <td>0.10</td>\n",
       "      <td>0.0</td>\n",
       "      <td>0.0</td>\n",
       "      <td>0.04</td>\n",
       "      <td>0.04</td>\n",
       "      <td>1.76</td>\n",
       "    </tr>\n",
       "    <tr>\n",
       "      <th>std</th>\n",
       "      <td>NaN</td>\n",
       "      <td>NaN</td>\n",
       "      <td>18.07</td>\n",
       "      <td>18.07</td>\n",
       "      <td>36.15</td>\n",
       "      <td>445.16</td>\n",
       "      <td>402.55</td>\n",
       "      <td>841.11</td>\n",
       "      <td>0.48</td>\n",
       "      <td>0.05</td>\n",
       "      <td>0.05</td>\n",
       "      <td>3246.83</td>\n",
       "      <td>0.67</td>\n",
       "      <td>0.27</td>\n",
       "      <td>0.10</td>\n",
       "      <td>0.0</td>\n",
       "      <td>0.0</td>\n",
       "      <td>0.04</td>\n",
       "      <td>0.04</td>\n",
       "      <td>0.44</td>\n",
       "    </tr>\n",
       "    <tr>\n",
       "      <th>min</th>\n",
       "      <td>NaN</td>\n",
       "      <td>NaN</td>\n",
       "      <td>1.00</td>\n",
       "      <td>1.00</td>\n",
       "      <td>2.00</td>\n",
       "      <td>2.00</td>\n",
       "      <td>2.00</td>\n",
       "      <td>4.00</td>\n",
       "      <td>2.00</td>\n",
       "      <td>0.30</td>\n",
       "      <td>0.31</td>\n",
       "      <td>0.00</td>\n",
       "      <td>0.00</td>\n",
       "      <td>0.00</td>\n",
       "      <td>0.00</td>\n",
       "      <td>0.0</td>\n",
       "      <td>0.0</td>\n",
       "      <td>0.00</td>\n",
       "      <td>0.00</td>\n",
       "      <td>0.00</td>\n",
       "    </tr>\n",
       "    <tr>\n",
       "      <th>25%</th>\n",
       "      <td>NaN</td>\n",
       "      <td>NaN</td>\n",
       "      <td>2.00</td>\n",
       "      <td>2.00</td>\n",
       "      <td>4.00</td>\n",
       "      <td>5.00</td>\n",
       "      <td>8.00</td>\n",
       "      <td>15.00</td>\n",
       "      <td>3.00</td>\n",
       "      <td>0.43</td>\n",
       "      <td>0.45</td>\n",
       "      <td>0.00</td>\n",
       "      <td>0.00</td>\n",
       "      <td>0.83</td>\n",
       "      <td>0.07</td>\n",
       "      <td>0.0</td>\n",
       "      <td>0.0</td>\n",
       "      <td>0.03</td>\n",
       "      <td>0.03</td>\n",
       "      <td>2.00</td>\n",
       "    </tr>\n",
       "    <tr>\n",
       "      <th>50%</th>\n",
       "      <td>NaN</td>\n",
       "      <td>NaN</td>\n",
       "      <td>3.00</td>\n",
       "      <td>3.00</td>\n",
       "      <td>6.00</td>\n",
       "      <td>13.00</td>\n",
       "      <td>19.00</td>\n",
       "      <td>33.50</td>\n",
       "      <td>3.00</td>\n",
       "      <td>0.43</td>\n",
       "      <td>0.45</td>\n",
       "      <td>0.00</td>\n",
       "      <td>1.00</td>\n",
       "      <td>1.00</td>\n",
       "      <td>0.09</td>\n",
       "      <td>0.0</td>\n",
       "      <td>0.0</td>\n",
       "      <td>0.03</td>\n",
       "      <td>0.03</td>\n",
       "      <td>2.00</td>\n",
       "    </tr>\n",
       "    <tr>\n",
       "      <th>75%</th>\n",
       "      <td>NaN</td>\n",
       "      <td>NaN</td>\n",
       "      <td>4.00</td>\n",
       "      <td>4.00</td>\n",
       "      <td>8.00</td>\n",
       "      <td>42.00</td>\n",
       "      <td>53.00</td>\n",
       "      <td>97.00</td>\n",
       "      <td>4.00</td>\n",
       "      <td>0.49</td>\n",
       "      <td>0.49</td>\n",
       "      <td>0.12</td>\n",
       "      <td>1.00</td>\n",
       "      <td>1.00</td>\n",
       "      <td>0.11</td>\n",
       "      <td>0.0</td>\n",
       "      <td>0.0</td>\n",
       "      <td>0.04</td>\n",
       "      <td>0.04</td>\n",
       "      <td>2.00</td>\n",
       "    </tr>\n",
       "    <tr>\n",
       "      <th>max</th>\n",
       "      <td>NaN</td>\n",
       "      <td>NaN</td>\n",
       "      <td>197.00</td>\n",
       "      <td>197.00</td>\n",
       "      <td>394.00</td>\n",
       "      <td>6477.00</td>\n",
       "      <td>6263.00</td>\n",
       "      <td>12740.00</td>\n",
       "      <td>4.00</td>\n",
       "      <td>0.74</td>\n",
       "      <td>0.83</td>\n",
       "      <td>46234.80</td>\n",
       "      <td>2.00</td>\n",
       "      <td>1.00</td>\n",
       "      <td>1.00</td>\n",
       "      <td>0.0</td>\n",
       "      <td>0.0</td>\n",
       "      <td>0.39</td>\n",
       "      <td>0.39</td>\n",
       "      <td>2.00</td>\n",
       "    </tr>\n",
       "  </tbody>\n",
       "</table>\n",
       "</div>"
      ],
      "text/plain": [
       "       Label  timeset  indegree  outdegree  Degree  weighted indegree  \\\n",
       "count    0.0      0.0    302.00     302.00  302.00             302.00   \n",
       "mean     NaN      NaN      5.55       5.55   11.10              89.31   \n",
       "std      NaN      NaN     18.07      18.07   36.15             445.16   \n",
       "min      NaN      NaN      1.00       1.00    2.00               2.00   \n",
       "25%      NaN      NaN      2.00       2.00    4.00               5.00   \n",
       "50%      NaN      NaN      3.00       3.00    6.00              13.00   \n",
       "75%      NaN      NaN      4.00       4.00    8.00              42.00   \n",
       "max      NaN      NaN    197.00     197.00  394.00            6477.00   \n",
       "\n",
       "       weighted outdegree  Weighted Degree  Eccentricity  closnesscentrality  \\\n",
       "count              302.00           302.00        302.00              302.00   \n",
       "mean                89.31           178.62          3.34                0.45   \n",
       "std                402.55           841.11          0.48                0.05   \n",
       "min                  2.00             4.00          2.00                0.30   \n",
       "25%                  8.00            15.00          3.00                0.43   \n",
       "50%                 19.00            33.50          3.00                0.43   \n",
       "75%                 53.00            97.00          4.00                0.49   \n",
       "max               6263.00         12740.00          4.00                0.74   \n",
       "\n",
       "       harmonicclosnesscentrality  betweenesscentrality  modularity_class  \\\n",
       "count                      302.00                302.00            302.00   \n",
       "mean                         0.47                374.87              0.72   \n",
       "std                          0.05               3246.83              0.67   \n",
       "min                          0.31                  0.00              0.00   \n",
       "25%                          0.45                  0.00              0.00   \n",
       "50%                          0.45                  0.00              1.00   \n",
       "75%                          0.49                  0.12              1.00   \n",
       "max                          0.83              46234.80              2.00   \n",
       "\n",
       "       clustering  eigencentrality  componentnumber  strongcompnum  Authority  \\\n",
       "count      302.00           302.00            302.0          302.0     302.00   \n",
       "mean         0.86             0.10              0.0            0.0       0.04   \n",
       "std          0.27             0.10              0.0            0.0       0.04   \n",
       "min          0.00             0.00              0.0            0.0       0.00   \n",
       "25%          0.83             0.07              0.0            0.0       0.03   \n",
       "50%          1.00             0.09              0.0            0.0       0.03   \n",
       "75%          1.00             0.11              0.0            0.0       0.04   \n",
       "max          1.00             1.00              0.0            0.0       0.39   \n",
       "\n",
       "          Hub  stat_inf_class  \n",
       "count  302.00          302.00  \n",
       "mean     0.04            1.76  \n",
       "std      0.04            0.44  \n",
       "min      0.00            0.00  \n",
       "25%      0.03            2.00  \n",
       "50%      0.03            2.00  \n",
       "75%      0.04            2.00  \n",
       "max      0.39            2.00  "
      ]
     },
     "execution_count": 22,
     "metadata": {},
     "output_type": "execute_result"
    }
   ],
   "source": [
    "#presenting description of all the network statistics\n",
    "nodestats.describe().round(2)"
   ]
  },
  {
   "cell_type": "code",
   "execution_count": 23,
   "metadata": {
    "colab": {
     "base_uri": "https://localhost:8080/",
     "height": 0
    },
    "executionInfo": {
     "elapsed": 421,
     "status": "ok",
     "timestamp": 1665492311370,
     "user": {
      "displayName": "T. Hoekstra",
      "userId": "15583416116369470687"
     },
     "user_tz": -120
    },
    "id": "kZ7xBW4fgMeP",
    "outputId": "5b34c872-afc9-4ac5-fbc1-ecb60ce4e644"
   },
   "outputs": [
    {
     "data": {
      "text/plain": [
       "<seaborn.axisgrid.FacetGrid at 0x278bb185970>"
      ]
     },
     "execution_count": 23,
     "metadata": {},
     "output_type": "execute_result"
    },
    {
     "data": {
      "image/png": "[encoded data removed]",
      "text/plain": [
       "<Figure size 360x360 with 1 Axes>"
      ]
     },
     "metadata": {
      "needs_background": "light"
     },
     "output_type": "display_data"
    }
   ],
   "source": [
    "#graphing the degree counts with distribution line.\n",
    "sns.displot(nodestats['Degree'], kde=True)"
   ]
  },
  {
   "cell_type": "code",
   "execution_count": 24,
   "metadata": {
    "colab": {
     "base_uri": "https://localhost:8080/",
     "height": 0
    },
    "executionInfo": {
     "elapsed": 18,
     "status": "ok",
     "timestamp": 1665492311372,
     "user": {
      "displayName": "T. Hoekstra",
      "userId": "15583416116369470687"
     },
     "user_tz": -120
    },
    "id": "9S5L8_UMX475",
    "outputId": "13fe2c06-5f1a-4ec2-e860-b43ae3e78f97"
   },
   "outputs": [
    {
     "data": {
      "text/plain": [
       "<seaborn.axisgrid.FacetGrid at 0x278c9f2fac0>"
      ]
     },
     "execution_count": 24,
     "metadata": {},
     "output_type": "execute_result"
    },
    {
     "data": {
      "image/png": "[encoded data removed]",
      "text/plain": [
       "<Figure size 360x360 with 1 Axes>"
      ]
     },
     "metadata": {
      "needs_background": "light"
     },
     "output_type": "display_data"
    }
   ],
   "source": [
    "#graphing the eigenfactor centrality (popularity) score with distribution line.\n",
    "\n",
    "sns.displot(nodestats['eigencentrality'], kde=True)"
   ]
  },
  {
   "cell_type": "code",
   "execution_count": 25,
   "metadata": {
    "executionInfo": {
     "elapsed": 13,
     "status": "ok",
     "timestamp": 1665492311373,
     "user": {
      "displayName": "T. Hoekstra",
      "userId": "15583416116369470687"
     },
     "user_tz": -120
    },
    "id": "zIxutYYpR6BW"
   },
   "outputs": [],
   "source": [
    "#normalizing the node statistics.\n",
    "nodestats_2 = nodestats[['Degree', 'weighted indegree',\t'weighted outdegree',\t'Weighted Degree', 'Eccentricity','betweenesscentrality']]\n",
    "nodestats_norm= (nodestats_2-nodestats_2.min())/ (nodestats_2.max() - nodestats_2.min())\n",
    "nodestats_norm = pd.merge(left=nodestats_norm, right=nodestats[['closnesscentrality','harmonicclosnesscentrality','Authority','Hub','clustering','eigencentrality']], left_index=True,right_index=True)\n",
    "#nodestats_norm"
   ]
  },
  {
   "cell_type": "code",
   "execution_count": 26,
   "metadata": {
    "colab": {
     "base_uri": "https://localhost:8080/",
     "height": 0
    },
    "executionInfo": {
     "elapsed": 602,
     "status": "ok",
     "timestamp": 1665492311963,
     "user": {
      "displayName": "T. Hoekstra",
      "userId": "15583416116369470687"
     },
     "user_tz": -120
    },
    "id": "2j93TG9QRc43",
    "outputId": "7664d1ed-bc75-4b63-a395-e909151b58a8"
   },
   "outputs": [
    {
     "data": {
      "text/plain": [
       "<AxesSubplot:>"
      ]
     },
     "execution_count": 26,
     "metadata": {},
     "output_type": "execute_result"
    },
    {
     "data": {
      "image/png": "[encoded data removed]",
      "text/plain": [
       "<Figure size 1296x432 with 1 Axes>"
      ]
     },
     "metadata": {},
     "output_type": "display_data"
    }
   ],
   "source": [
    "#plotting the normalized node statistics.\n",
    "sns.set(rc={\"figure.figsize\":(18, 6)})\n",
    "sns.boxplot(data=nodestats_norm)"
   ]
  }
 ],
 "metadata": {
  "colab": {
   "authorship_tag": "ABX9TyMbGsKH6kFV4mPOCWFXiNH7",
   "provenance": []
  },
  "kernelspec": {
   "display_name": "Python 3",
   "language": "python",
   "name": "python3"
  },
  "language_info": {
   "codemirror_mode": {
    "name": "ipython",
    "version": 3
   },
   "file_extension": ".py",
   "mimetype": "text/x-python",
   "name": "python",
   "nbconvert_exporter": "python",
   "pygments_lexer": "ipython3",
   "version": "3.8.8"
  }
 },
 "nbformat": 4,
 "nbformat_minor": 1
}
